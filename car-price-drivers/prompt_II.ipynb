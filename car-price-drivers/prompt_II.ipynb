{
 "cells": [
  {
   "cell_type": "markdown",
   "metadata": {},
   "source": [
    "# What drives the price of a car?\n",
    "\n",
    "![](images/kurt.jpeg)"
   ]
  },
  {
   "cell_type": "markdown",
   "metadata": {},
   "source": [
    "**OVERVIEW**\n",
    "\n",
    "In this application, you will explore a dataset from kaggle. The original dataset contained information on 3 million used cars. The provided dataset contains information on 426K cars to ensure speed of processing.  Your goal is to understand what factors make a car more or less expensive.  As a result of your analysis, you should provide clear recommendations to your client -- a used car dealership -- as to what consumers value in a used car."
   ]
  },
  {
   "cell_type": "markdown",
   "metadata": {},
   "source": [
    "### CRISP-DM Framework\n",
    "\n",
    "<center>\n",
    "    <img src = images/crisp.png width = 50%/>\n",
    "</center>\n",
    "\n",
    "\n",
    "To frame the task, throughout our practical applications we will refer back to a standard process in industry for data projects called CRISP-DM.  This process provides a framework for working through a data problem.  Your first step in this application will be to read through a brief overview of CRISP-DM [here](https://mo-pcco.s3.us-east-1.amazonaws.com/BH-PCMLAI/module_11/readings_starter.zip).  After reading the overview, answer the questions below."
   ]
  },
  {
   "cell_type": "markdown",
   "metadata": {},
   "source": [
    "### Business Understanding\n",
    "\n",
    "From a business perspective, we are tasked with identifying key drivers for used car prices.  In the CRISP-DM overview, we are asked to convert this business framing to a data problem definition.  Using a few sentences, reframe the task as a data task with the appropriate technical vocabulary. "
   ]
  },
  {
   "cell_type": "markdown",
   "metadata": {},
   "source": [
    "We aim to understand the factors influencing the price of used cars. The primary objective is to provide actionable insights for a used car dealership to optimize their inventory and pricing strategies.\n",
    "\n",
    "#### Business Objectives:\n",
    "1. **Identify Key Price Drivers:**\n",
    "   - Determine the most significant factors that influence the price of a used car.\n",
    "\n",
    "2. **Optimize Inventory:**\n",
    "   - Identify which car features should be prioritized in inventory to maximize profitability.\n",
    "\n",
    "3. **Pricing Strategy:**\n",
    "   - Develop a strategy to set competitive and profitable prices for cars.\n",
    "\n",
    "4. **Market Positioning:**\n",
    "   - Compare the dealership's pricing with market averages for similar vehicles.\n",
    "\n",
    "5. **Sales Strategy:**\n",
    "   - Understand which types of cars are likely to sell faster based on features and pricing.\n",
    "\n",
    "6. **Customer Preferences:**\n",
    "   - Determine the car features most valued by customers in different market segments.\n",
    "\n",
    "#### Business Questions:\n",
    "1. **Feature Impact:**\n",
    "   - How do factors like mileage, age, make, model, and condition of the car impact its price?\n",
    "\n",
    "2. **Geographic Influence:**\n",
    "   - Does the location of the dealership affect car prices?\n",
    "\n",
    "3. **Seasonal Trends:**\n",
    "   - Are there seasonal trends in used car prices that the dealership can leverage?\n",
    "\n",
    "4. **Market Demand:**\n",
    "   - Which makes and models are in highest demand and how does this affect their pricing?\n",
    "\n",
    " \n",
    "5**Customer Preferences:**\n",
    "   - Which car features are most valued by customers in different market segments?\n",
    "\n",
    "Addressing these objectives and questions will provide valuable insights that can help the dealership make data-driven decisions to enhance its operations and increase profitability."
   ]
  },
  {
   "cell_type": "markdown",
   "metadata": {},
   "source": []
  },
  {
   "cell_type": "markdown",
   "metadata": {},
   "source": [
    "### Data Understanding\n",
    "\n",
    "After considering the business understanding, we want to get familiar with our data.  Write down some steps that you would take to get to know the dataset and identify any quality issues within.  Take time to get to know the dataset and explore what information it contains and how this could be used to inform your business understanding."
   ]
  },
  {
   "cell_type": "markdown",
   "metadata": {},
   "source": [
    "In the Data Understanding phase, we aim to explore the dataset to gain insights and identify any potential issues that need to be addressed before data preparation. This involves loading the dataset, checking its structure, summarizing key statistics, and identifying any missing or anomalous data."
   ]
  },
  {
   "cell_type": "code",
   "metadata": {
    "ExecuteTime": {
     "end_time": "2024-06-26T21:37:19.674993Z",
     "start_time": "2024-06-26T21:37:16.902453Z"
    }
   },
   "source": "!pip install pandas matplotlib seaborn scikit-learn lightgbm xgboost",
   "outputs": [
    {
     "name": "stdout",
     "output_type": "stream",
     "text": [
      "Requirement already satisfied: pandas in c:\\code\\workspace-idea\\everything\\venv\\lib\\site-packages (2.2.2)\n",
      "Requirement already satisfied: matplotlib in c:\\code\\workspace-idea\\everything\\venv\\lib\\site-packages (3.9.0)\n",
      "Requirement already satisfied: seaborn in c:\\code\\workspace-idea\\everything\\venv\\lib\\site-packages (0.13.2)\n",
      "Requirement already satisfied: scikit-learn in c:\\code\\workspace-idea\\everything\\venv\\lib\\site-packages (1.5.0)\n",
      "Requirement already satisfied: lightgbm in c:\\code\\workspace-idea\\everything\\venv\\lib\\site-packages (4.4.0)\n",
      "Requirement already satisfied: xgboost in c:\\code\\workspace-idea\\everything\\venv\\lib\\site-packages (2.1.0)\n",
      "Requirement already satisfied: catboost in c:\\code\\workspace-idea\\everything\\venv\\lib\\site-packages (1.2.5)\n",
      "Requirement already satisfied: numpy>=1.23.2 in c:\\code\\workspace-idea\\everything\\venv\\lib\\site-packages (from pandas) (1.26.4)\n",
      "Requirement already satisfied: python-dateutil>=2.8.2 in c:\\code\\workspace-idea\\everything\\venv\\lib\\site-packages (from pandas) (2.9.0.post0)\n",
      "Requirement already satisfied: pytz>=2020.1 in c:\\code\\workspace-idea\\everything\\venv\\lib\\site-packages (from pandas) (2024.1)\n",
      "Requirement already satisfied: tzdata>=2022.7 in c:\\code\\workspace-idea\\everything\\venv\\lib\\site-packages (from pandas) (2024.1)\n",
      "Requirement already satisfied: contourpy>=1.0.1 in c:\\code\\workspace-idea\\everything\\venv\\lib\\site-packages (from matplotlib) (1.2.1)\n",
      "Requirement already satisfied: cycler>=0.10 in c:\\code\\workspace-idea\\everything\\venv\\lib\\site-packages (from matplotlib) (0.12.1)\n",
      "Requirement already satisfied: fonttools>=4.22.0 in c:\\code\\workspace-idea\\everything\\venv\\lib\\site-packages (from matplotlib) (4.53.0)\n",
      "Requirement already satisfied: kiwisolver>=1.3.1 in c:\\code\\workspace-idea\\everything\\venv\\lib\\site-packages (from matplotlib) (1.4.5)\n",
      "Requirement already satisfied: packaging>=20.0 in c:\\code\\workspace-idea\\everything\\venv\\lib\\site-packages (from matplotlib) (24.1)\n",
      "Requirement already satisfied: pillow>=8 in c:\\code\\workspace-idea\\everything\\venv\\lib\\site-packages (from matplotlib) (10.3.0)\n",
      "Requirement already satisfied: pyparsing>=2.3.1 in c:\\code\\workspace-idea\\everything\\venv\\lib\\site-packages (from matplotlib) (3.1.2)\n",
      "Requirement already satisfied: scipy>=1.6.0 in c:\\code\\workspace-idea\\everything\\venv\\lib\\site-packages (from scikit-learn) (1.13.1)\n",
      "Requirement already satisfied: joblib>=1.2.0 in c:\\code\\workspace-idea\\everything\\venv\\lib\\site-packages (from scikit-learn) (1.4.2)\n",
      "Requirement already satisfied: threadpoolctl>=3.1.0 in c:\\code\\workspace-idea\\everything\\venv\\lib\\site-packages (from scikit-learn) (3.5.0)\n",
      "Requirement already satisfied: graphviz in c:\\code\\workspace-idea\\everything\\venv\\lib\\site-packages (from catboost) (0.20.3)\n",
      "Requirement already satisfied: plotly in c:\\code\\workspace-idea\\everything\\venv\\lib\\site-packages (from catboost) (5.22.0)\n",
      "Requirement already satisfied: six in c:\\code\\workspace-idea\\everything\\venv\\lib\\site-packages (from catboost) (1.16.0)\n",
      "Requirement already satisfied: tenacity>=6.2.0 in c:\\code\\workspace-idea\\everything\\venv\\lib\\site-packages (from plotly->catboost) (8.3.0)\n"
     ]
    },
    {
     "name": "stderr",
     "output_type": "stream",
     "text": [
      "\n",
      "[notice] A new release of pip is available: 24.0 -> 24.1.1\n",
      "[notice] To update, run: python.exe -m pip install --upgrade pip\n"
     ]
    }
   ],
   "execution_count": 57
  },
  {
   "cell_type": "code",
   "metadata": {
    "ExecuteTime": {
     "end_time": "2024-06-26T21:37:20.470984Z",
     "start_time": "2024-06-26T21:37:19.676002Z"
    }
   },
   "source": [
    "import pandas as pd\n",
    "\n",
    "# Load the dataset\n",
    "data_path = 'data/raw/vehicles.csv'\n",
    "vehicles_df = pd.read_csv(data_path)\n",
    "\n",
    "# Display the first few rows\n",
    "vehicles_df.head()"
   ],
   "outputs": [
    {
     "data": {
      "text/plain": [
       "           id                  region  price  year manufacturer model  \\\n",
       "0  7222695916                prescott   6000   NaN          NaN   NaN   \n",
       "1  7218891961            fayetteville  11900   NaN          NaN   NaN   \n",
       "2  7221797935            florida keys  21000   NaN          NaN   NaN   \n",
       "3  7222270760  worcester / central MA   1500   NaN          NaN   NaN   \n",
       "4  7210384030              greensboro   4900   NaN          NaN   NaN   \n",
       "\n",
       "  condition cylinders fuel  odometer title_status transmission  VIN drive  \\\n",
       "0       NaN       NaN  NaN       NaN          NaN          NaN  NaN   NaN   \n",
       "1       NaN       NaN  NaN       NaN          NaN          NaN  NaN   NaN   \n",
       "2       NaN       NaN  NaN       NaN          NaN          NaN  NaN   NaN   \n",
       "3       NaN       NaN  NaN       NaN          NaN          NaN  NaN   NaN   \n",
       "4       NaN       NaN  NaN       NaN          NaN          NaN  NaN   NaN   \n",
       "\n",
       "  size type paint_color state  \n",
       "0  NaN  NaN         NaN    az  \n",
       "1  NaN  NaN         NaN    ar  \n",
       "2  NaN  NaN         NaN    fl  \n",
       "3  NaN  NaN         NaN    ma  \n",
       "4  NaN  NaN         NaN    nc  "
      ],
      "text/html": [
       "<div>\n",
       "<style scoped>\n",
       "    .dataframe tbody tr th:only-of-type {\n",
       "        vertical-align: middle;\n",
       "    }\n",
       "\n",
       "    .dataframe tbody tr th {\n",
       "        vertical-align: top;\n",
       "    }\n",
       "\n",
       "    .dataframe thead th {\n",
       "        text-align: right;\n",
       "    }\n",
       "</style>\n",
       "<table border=\"1\" class=\"dataframe\">\n",
       "  <thead>\n",
       "    <tr style=\"text-align: right;\">\n",
       "      <th></th>\n",
       "      <th>id</th>\n",
       "      <th>region</th>\n",
       "      <th>price</th>\n",
       "      <th>year</th>\n",
       "      <th>manufacturer</th>\n",
       "      <th>model</th>\n",
       "      <th>condition</th>\n",
       "      <th>cylinders</th>\n",
       "      <th>fuel</th>\n",
       "      <th>odometer</th>\n",
       "      <th>title_status</th>\n",
       "      <th>transmission</th>\n",
       "      <th>VIN</th>\n",
       "      <th>drive</th>\n",
       "      <th>size</th>\n",
       "      <th>type</th>\n",
       "      <th>paint_color</th>\n",
       "      <th>state</th>\n",
       "    </tr>\n",
       "  </thead>\n",
       "  <tbody>\n",
       "    <tr>\n",
       "      <th>0</th>\n",
       "      <td>7222695916</td>\n",
       "      <td>prescott</td>\n",
       "      <td>6000</td>\n",
       "      <td>NaN</td>\n",
       "      <td>NaN</td>\n",
       "      <td>NaN</td>\n",
       "      <td>NaN</td>\n",
       "      <td>NaN</td>\n",
       "      <td>NaN</td>\n",
       "      <td>NaN</td>\n",
       "      <td>NaN</td>\n",
       "      <td>NaN</td>\n",
       "      <td>NaN</td>\n",
       "      <td>NaN</td>\n",
       "      <td>NaN</td>\n",
       "      <td>NaN</td>\n",
       "      <td>NaN</td>\n",
       "      <td>az</td>\n",
       "    </tr>\n",
       "    <tr>\n",
       "      <th>1</th>\n",
       "      <td>7218891961</td>\n",
       "      <td>fayetteville</td>\n",
       "      <td>11900</td>\n",
       "      <td>NaN</td>\n",
       "      <td>NaN</td>\n",
       "      <td>NaN</td>\n",
       "      <td>NaN</td>\n",
       "      <td>NaN</td>\n",
       "      <td>NaN</td>\n",
       "      <td>NaN</td>\n",
       "      <td>NaN</td>\n",
       "      <td>NaN</td>\n",
       "      <td>NaN</td>\n",
       "      <td>NaN</td>\n",
       "      <td>NaN</td>\n",
       "      <td>NaN</td>\n",
       "      <td>NaN</td>\n",
       "      <td>ar</td>\n",
       "    </tr>\n",
       "    <tr>\n",
       "      <th>2</th>\n",
       "      <td>7221797935</td>\n",
       "      <td>florida keys</td>\n",
       "      <td>21000</td>\n",
       "      <td>NaN</td>\n",
       "      <td>NaN</td>\n",
       "      <td>NaN</td>\n",
       "      <td>NaN</td>\n",
       "      <td>NaN</td>\n",
       "      <td>NaN</td>\n",
       "      <td>NaN</td>\n",
       "      <td>NaN</td>\n",
       "      <td>NaN</td>\n",
       "      <td>NaN</td>\n",
       "      <td>NaN</td>\n",
       "      <td>NaN</td>\n",
       "      <td>NaN</td>\n",
       "      <td>NaN</td>\n",
       "      <td>fl</td>\n",
       "    </tr>\n",
       "    <tr>\n",
       "      <th>3</th>\n",
       "      <td>7222270760</td>\n",
       "      <td>worcester / central MA</td>\n",
       "      <td>1500</td>\n",
       "      <td>NaN</td>\n",
       "      <td>NaN</td>\n",
       "      <td>NaN</td>\n",
       "      <td>NaN</td>\n",
       "      <td>NaN</td>\n",
       "      <td>NaN</td>\n",
       "      <td>NaN</td>\n",
       "      <td>NaN</td>\n",
       "      <td>NaN</td>\n",
       "      <td>NaN</td>\n",
       "      <td>NaN</td>\n",
       "      <td>NaN</td>\n",
       "      <td>NaN</td>\n",
       "      <td>NaN</td>\n",
       "      <td>ma</td>\n",
       "    </tr>\n",
       "    <tr>\n",
       "      <th>4</th>\n",
       "      <td>7210384030</td>\n",
       "      <td>greensboro</td>\n",
       "      <td>4900</td>\n",
       "      <td>NaN</td>\n",
       "      <td>NaN</td>\n",
       "      <td>NaN</td>\n",
       "      <td>NaN</td>\n",
       "      <td>NaN</td>\n",
       "      <td>NaN</td>\n",
       "      <td>NaN</td>\n",
       "      <td>NaN</td>\n",
       "      <td>NaN</td>\n",
       "      <td>NaN</td>\n",
       "      <td>NaN</td>\n",
       "      <td>NaN</td>\n",
       "      <td>NaN</td>\n",
       "      <td>NaN</td>\n",
       "      <td>nc</td>\n",
       "    </tr>\n",
       "  </tbody>\n",
       "</table>\n",
       "</div>"
      ]
     },
     "execution_count": 58,
     "metadata": {},
     "output_type": "execute_result"
    }
   ],
   "execution_count": 58
  },
  {
   "cell_type": "code",
   "metadata": {
    "ExecuteTime": {
     "end_time": "2024-06-26T21:37:20.476393Z",
     "start_time": "2024-06-26T21:37:20.472022Z"
    }
   },
   "source": [
    "# Check column names\n",
    "vehicles_df.columns"
   ],
   "outputs": [
    {
     "data": {
      "text/plain": [
       "Index(['id', 'region', 'price', 'year', 'manufacturer', 'model', 'condition',\n",
       "       'cylinders', 'fuel', 'odometer', 'title_status', 'transmission', 'VIN',\n",
       "       'drive', 'size', 'type', 'paint_color', 'state'],\n",
       "      dtype='object')"
      ]
     },
     "execution_count": 59,
     "metadata": {},
     "output_type": "execute_result"
    }
   ],
   "execution_count": 59
  },
  {
   "cell_type": "code",
   "metadata": {
    "ExecuteTime": {
     "end_time": "2024-06-26T21:37:20.548473Z",
     "start_time": "2024-06-26T21:37:20.478399Z"
    }
   },
   "source": [
    "# Summary statistics\n",
    "vehicles_df.describe()"
   ],
   "outputs": [
    {
     "data": {
      "text/plain": [
       "                 id         price           year      odometer\n",
       "count  4.268800e+05  4.268800e+05  425675.000000  4.224800e+05\n",
       "mean   7.311487e+09  7.519903e+04    2011.235191  9.804333e+04\n",
       "std    4.473170e+06  1.218228e+07       9.452120  2.138815e+05\n",
       "min    7.207408e+09  0.000000e+00    1900.000000  0.000000e+00\n",
       "25%    7.308143e+09  5.900000e+03    2008.000000  3.770400e+04\n",
       "50%    7.312621e+09  1.395000e+04    2013.000000  8.554800e+04\n",
       "75%    7.315254e+09  2.648575e+04    2017.000000  1.335425e+05\n",
       "max    7.317101e+09  3.736929e+09    2022.000000  1.000000e+07"
      ],
      "text/html": [
       "<div>\n",
       "<style scoped>\n",
       "    .dataframe tbody tr th:only-of-type {\n",
       "        vertical-align: middle;\n",
       "    }\n",
       "\n",
       "    .dataframe tbody tr th {\n",
       "        vertical-align: top;\n",
       "    }\n",
       "\n",
       "    .dataframe thead th {\n",
       "        text-align: right;\n",
       "    }\n",
       "</style>\n",
       "<table border=\"1\" class=\"dataframe\">\n",
       "  <thead>\n",
       "    <tr style=\"text-align: right;\">\n",
       "      <th></th>\n",
       "      <th>id</th>\n",
       "      <th>price</th>\n",
       "      <th>year</th>\n",
       "      <th>odometer</th>\n",
       "    </tr>\n",
       "  </thead>\n",
       "  <tbody>\n",
       "    <tr>\n",
       "      <th>count</th>\n",
       "      <td>4.268800e+05</td>\n",
       "      <td>4.268800e+05</td>\n",
       "      <td>425675.000000</td>\n",
       "      <td>4.224800e+05</td>\n",
       "    </tr>\n",
       "    <tr>\n",
       "      <th>mean</th>\n",
       "      <td>7.311487e+09</td>\n",
       "      <td>7.519903e+04</td>\n",
       "      <td>2011.235191</td>\n",
       "      <td>9.804333e+04</td>\n",
       "    </tr>\n",
       "    <tr>\n",
       "      <th>std</th>\n",
       "      <td>4.473170e+06</td>\n",
       "      <td>1.218228e+07</td>\n",
       "      <td>9.452120</td>\n",
       "      <td>2.138815e+05</td>\n",
       "    </tr>\n",
       "    <tr>\n",
       "      <th>min</th>\n",
       "      <td>7.207408e+09</td>\n",
       "      <td>0.000000e+00</td>\n",
       "      <td>1900.000000</td>\n",
       "      <td>0.000000e+00</td>\n",
       "    </tr>\n",
       "    <tr>\n",
       "      <th>25%</th>\n",
       "      <td>7.308143e+09</td>\n",
       "      <td>5.900000e+03</td>\n",
       "      <td>2008.000000</td>\n",
       "      <td>3.770400e+04</td>\n",
       "    </tr>\n",
       "    <tr>\n",
       "      <th>50%</th>\n",
       "      <td>7.312621e+09</td>\n",
       "      <td>1.395000e+04</td>\n",
       "      <td>2013.000000</td>\n",
       "      <td>8.554800e+04</td>\n",
       "    </tr>\n",
       "    <tr>\n",
       "      <th>75%</th>\n",
       "      <td>7.315254e+09</td>\n",
       "      <td>2.648575e+04</td>\n",
       "      <td>2017.000000</td>\n",
       "      <td>1.335425e+05</td>\n",
       "    </tr>\n",
       "    <tr>\n",
       "      <th>max</th>\n",
       "      <td>7.317101e+09</td>\n",
       "      <td>3.736929e+09</td>\n",
       "      <td>2022.000000</td>\n",
       "      <td>1.000000e+07</td>\n",
       "    </tr>\n",
       "  </tbody>\n",
       "</table>\n",
       "</div>"
      ]
     },
     "execution_count": 60,
     "metadata": {},
     "output_type": "execute_result"
    }
   ],
   "execution_count": 60
  },
  {
   "cell_type": "code",
   "metadata": {
    "ExecuteTime": {
     "end_time": "2024-06-26T21:37:20.714548Z",
     "start_time": "2024-06-26T21:37:20.549481Z"
    }
   },
   "source": [
    "# Check for missing values\n",
    "vehicles_df.isnull().sum()"
   ],
   "outputs": [
    {
     "data": {
      "text/plain": [
       "id                   0\n",
       "region               0\n",
       "price                0\n",
       "year              1205\n",
       "manufacturer     17646\n",
       "model             5277\n",
       "condition       174104\n",
       "cylinders       177678\n",
       "fuel              3013\n",
       "odometer          4400\n",
       "title_status      8242\n",
       "transmission      2556\n",
       "VIN             161042\n",
       "drive           130567\n",
       "size            306361\n",
       "type             92858\n",
       "paint_color     130203\n",
       "state                0\n",
       "dtype: int64"
      ]
     },
     "execution_count": 61,
     "metadata": {},
     "output_type": "execute_result"
    }
   ],
   "execution_count": 61
  },
  {
   "cell_type": "code",
   "metadata": {
    "ExecuteTime": {
     "end_time": "2024-06-26T21:37:20.721653Z",
     "start_time": "2024-06-26T21:37:20.715553Z"
    }
   },
   "source": [
    "# Check data types\n",
    "vehicles_df.dtypes"
   ],
   "outputs": [
    {
     "data": {
      "text/plain": [
       "id                int64\n",
       "region           object\n",
       "price             int64\n",
       "year            float64\n",
       "manufacturer     object\n",
       "model            object\n",
       "condition        object\n",
       "cylinders        object\n",
       "fuel             object\n",
       "odometer        float64\n",
       "title_status     object\n",
       "transmission     object\n",
       "VIN              object\n",
       "drive            object\n",
       "size             object\n",
       "type             object\n",
       "paint_color      object\n",
       "state            object\n",
       "dtype: object"
      ]
     },
     "execution_count": 62,
     "metadata": {},
     "output_type": "execute_result"
    }
   ],
   "execution_count": 62
  },
  {
   "cell_type": "code",
   "metadata": {
    "ExecuteTime": {
     "end_time": "2024-06-26T21:37:21.885166Z",
     "start_time": "2024-06-26T21:37:20.722658Z"
    }
   },
   "source": [
    "import matplotlib.pyplot as plt\n",
    "import seaborn as sns\n",
    "\n",
    "# Distribution of car prices\n",
    "plt.figure(figsize=(10, 6))\n",
    "sns.histplot(vehicles_df['price'], bins=50, kde=True)\n",
    "plt.title('Distribution of Car Prices')\n",
    "plt.xlabel('Price')\n",
    "plt.ylabel('Frequency')\n",
    "plt.show()"
   ],
   "outputs": [
    {
     "data": {
      "text/plain": [
       "<Figure size 1000x600 with 1 Axes>"
      ],
      "image/png": "[encoded data removed]"
     },
     "metadata": {},
     "output_type": "display_data"
    }
   ],
   "execution_count": 63
  },
  {
   "cell_type": "code",
   "metadata": {
    "ExecuteTime": {
     "end_time": "2024-06-26T21:37:23.077837Z",
     "start_time": "2024-06-26T21:37:21.888177Z"
    }
   },
   "source": [
    "# Scatter plot of price vs. odometer\n",
    "plt.figure(figsize=(10, 6))\n",
    "sns.scatterplot(x='odometer', y='price', data=vehicles_df)\n",
    "plt.title('Price vs. Odometer')\n",
    "plt.xlabel('Odometer')\n",
    "plt.ylabel('Price')\n",
    "plt.show()"
   ],
   "outputs": [
    {
     "data": {
      "text/plain": [
       "<Figure size 1000x600 with 1 Axes>"
      ],
      "image/png": "[encoded data removed]"
     },
     "metadata": {},
     "output_type": "display_data"
    }
   ],
   "execution_count": 64
  },
  {
   "cell_type": "code",
   "metadata": {
    "ExecuteTime": {
     "end_time": "2024-06-26T21:37:24.095918Z",
     "start_time": "2024-06-26T21:37:23.078846Z"
    }
   },
   "source": [
    "# Box plot of price vs. manufacturer\n",
    "plt.figure(figsize=(15, 8))\n",
    "sns.boxplot(x='manufacturer', y='price', data=vehicles_df)\n",
    "plt.title('Price Distribution by Manufacturer')\n",
    "plt.xlabel('Manufacturer')\n",
    "plt.ylabel('Price')\n",
    "plt.xticks(rotation=90)\n",
    "plt.show()"
   ],
   "outputs": [
    {
     "data": {
      "text/plain": [
       "<Figure size 1500x800 with 1 Axes>"
      ],
      "image/png": "[encoded data removed]"
     },
     "metadata": {},
     "output_type": "display_data"
    }
   ],
   "execution_count": 65
  },
  {
   "cell_type": "markdown",
   "metadata": {},
   "source": [
    "### Data Preparation\n",
    "\n",
    "After our initial exploration and fine tuning of the business understanding, it is time to construct our final dataset prior to modeling.  Here, we want to make sure to handle any integrity issues and cleaning, the engineering of new features, any transformations that we believe should happen (scaling, logarithms, normalization, etc.), and general preparation for modeling with `sklearn`. "
   ]
  },
  {
   "cell_type": "code",
   "metadata": {
    "ExecuteTime": {
     "end_time": "2024-06-26T21:37:24.285618Z",
     "start_time": "2024-06-26T21:37:24.098927Z"
    }
   },
   "source": [
    "vehicles_df.isnull().sum()"
   ],
   "outputs": [
    {
     "data": {
      "text/plain": [
       "id                   0\n",
       "region               0\n",
       "price                0\n",
       "year              1205\n",
       "manufacturer     17646\n",
       "model             5277\n",
       "condition       174104\n",
       "cylinders       177678\n",
       "fuel              3013\n",
       "odometer          4400\n",
       "title_status      8242\n",
       "transmission      2556\n",
       "VIN             161042\n",
       "drive           130567\n",
       "size            306361\n",
       "type             92858\n",
       "paint_color     130203\n",
       "state                0\n",
       "dtype: int64"
      ]
     },
     "execution_count": 66,
     "metadata": {},
     "output_type": "execute_result"
    }
   ],
   "execution_count": 66
  },
  {
   "cell_type": "markdown",
   "metadata": {},
   "source": [
    "The dataset has a significant number of missing values in several columns. "
   ]
  },
  {
   "cell_type": "markdown",
   "metadata": {},
   "source": [
    "VIN and title_status is insignificant for our analysis and can be dropped."
   ]
  },
  {
   "cell_type": "code",
   "metadata": {
    "ExecuteTime": {
     "end_time": "2024-06-26T21:37:24.385884Z",
     "start_time": "2024-06-26T21:37:24.286627Z"
    }
   },
   "source": [
    "vehicles_df = vehicles_df.drop(columns=['VIN'])\n",
    "vehicles_df = vehicles_df.drop(columns=['title_status'])"
   ],
   "outputs": [],
   "execution_count": 67
  },
  {
   "cell_type": "markdown",
   "metadata": {},
   "source": [
    "Relying on the assumption that each model is typically associated with a specific manufacturer.  We can attempt to fill in missing values for the manufacturer column based on the model column.  "
   ]
  },
  {
   "cell_type": "code",
   "metadata": {
    "ExecuteTime": {
     "end_time": "2024-06-26T21:37:24.552867Z",
     "start_time": "2024-06-26T21:37:24.386824Z"
    }
   },
   "source": [
    "# Create a lookup table from the non-missing manufacturer data\n",
    "manufacturer_lookup_table = vehicles_df.dropna(subset=['manufacturer'])[['model', 'manufacturer']]\n",
    "manufacturer_lookup_table = manufacturer_lookup_table.drop_duplicates()\n",
    "\n",
    "# Convert the lookup table to a dictionary for fast lookup\n",
    "manufacturer_lookup_dict = manufacturer_lookup_table.set_index('model').to_dict()['manufacturer']"
   ],
   "outputs": [],
   "execution_count": 68
  },
  {
   "cell_type": "code",
   "metadata": {
    "ExecuteTime": {
     "end_time": "2024-06-26T21:37:27.726346Z",
     "start_time": "2024-06-26T21:37:24.553877Z"
    }
   },
   "source": [
    "def fill_manufacturer(row):\n",
    "    if pd.isnull(row['manufacturer']):\n",
    "        return manufacturer_lookup_dict.get(row['model'], row['manufacturer'])\n",
    "    else:\n",
    "        return row['manufacturer']\n",
    "\n",
    "# Apply the function to fill missing manufacturer values\n",
    "vehicles_df['manufacturer'] = vehicles_df.apply(fill_manufacturer, axis=1)"
   ],
   "outputs": [],
   "execution_count": 69
  },
  {
   "cell_type": "markdown",
   "metadata": {},
   "source": []
  },
  {
   "cell_type": "code",
   "metadata": {
    "ExecuteTime": {
     "end_time": "2024-06-26T21:37:27.867136Z",
     "start_time": "2024-06-26T21:37:27.727354Z"
    }
   },
   "source": [
    "vehicles_df.isnull().sum()"
   ],
   "outputs": [
    {
     "data": {
      "text/plain": [
       "id                   0\n",
       "region               0\n",
       "price                0\n",
       "year              1205\n",
       "manufacturer     16778\n",
       "model             5277\n",
       "condition       174104\n",
       "cylinders       177678\n",
       "fuel              3013\n",
       "odometer          4400\n",
       "transmission      2556\n",
       "drive           130567\n",
       "size            306361\n",
       "type             92858\n",
       "paint_color     130203\n",
       "state                0\n",
       "dtype: int64"
      ]
     },
     "execution_count": 70,
     "metadata": {},
     "output_type": "execute_result"
    }
   ],
   "execution_count": 70
  },
  {
   "cell_type": "code",
   "metadata": {
    "ExecuteTime": {
     "end_time": "2024-06-26T21:37:28.090405Z",
     "start_time": "2024-06-26T21:37:27.868142Z"
    }
   },
   "source": [
    "# Drop records with missing manufacturer, model, or year\n",
    "vehicles_df = vehicles_df.dropna(subset=['manufacturer', 'model', 'year'])\n",
    "\n",
    "# Verify the remaining missing values\n",
    "vehicles_df.isnull().sum()"
   ],
   "outputs": [
    {
     "data": {
      "text/plain": [
       "id                   0\n",
       "region               0\n",
       "price                0\n",
       "year                 0\n",
       "manufacturer         0\n",
       "model                0\n",
       "condition       164577\n",
       "cylinders       167254\n",
       "fuel              2553\n",
       "odometer          4138\n",
       "transmission      2271\n",
       "drive           121267\n",
       "size            290989\n",
       "type             84438\n",
       "paint_color     121534\n",
       "state                0\n",
       "dtype: int64"
      ]
     },
     "execution_count": 71,
     "metadata": {},
     "output_type": "execute_result"
    }
   ],
   "execution_count": 71
  },
  {
   "cell_type": "markdown",
   "metadata": {},
   "source": [
    "We can also fill missing values for the fuel based on the available information for year, manufacturer and model."
   ]
  },
  {
   "cell_type": "code",
   "metadata": {
    "ExecuteTime": {
     "end_time": "2024-06-26T21:37:28.093425Z",
     "start_time": "2024-06-26T21:37:28.091411Z"
    }
   },
   "source": [],
   "outputs": [],
   "execution_count": 71
  },
  {
   "cell_type": "code",
   "metadata": {
    "ExecuteTime": {
     "end_time": "2024-06-26T21:37:28.457511Z",
     "start_time": "2024-06-26T21:37:28.094443Z"
    }
   },
   "source": [
    "# Create a lookup table from the non-missing fuel data\n",
    "fuel_lookup_table = vehicles_df.dropna(subset=['fuel'])[['year', 'manufacturer', 'model', 'fuel']]\n",
    "fuel_lookup_table = fuel_lookup_table.drop_duplicates()\n",
    "\n",
    "# Convert the lookup table to a dictionary for fast lookup\n",
    "fuel_lookup_dict = fuel_lookup_table.set_index(['year', 'manufacturer', 'model']).to_dict()['fuel']"
   ],
   "outputs": [],
   "execution_count": 72
  },
  {
   "cell_type": "code",
   "metadata": {
    "ExecuteTime": {
     "end_time": "2024-06-26T21:37:33.712531Z",
     "start_time": "2024-06-26T21:37:28.458516Z"
    }
   },
   "source": [
    "def fill_fuel(row):\n",
    "    key = (row['year'], row['manufacturer'], row['model'])\n",
    "    if pd.isnull(row['fuel']):\n",
    "        return fuel_lookup_dict.get(key, row['fuel'])\n",
    "    else:\n",
    "        return row['fuel']\n",
    "\n",
    "# Apply the function to fill missing fuel values\n",
    "vehicles_df['fuel'] = vehicles_df.apply(fill_fuel, axis=1)"
   ],
   "outputs": [],
   "execution_count": 73
  },
  {
   "cell_type": "code",
   "metadata": {
    "ExecuteTime": {
     "end_time": "2024-06-26T21:37:33.829317Z",
     "start_time": "2024-06-26T21:37:33.713537Z"
    }
   },
   "source": [
    "vehicles_df.isnull().sum()"
   ],
   "outputs": [
    {
     "data": {
      "text/plain": [
       "id                   0\n",
       "region               0\n",
       "price                0\n",
       "year                 0\n",
       "manufacturer         0\n",
       "model                0\n",
       "condition       164577\n",
       "cylinders       167254\n",
       "fuel              1408\n",
       "odometer          4138\n",
       "transmission      2271\n",
       "drive           121267\n",
       "size            290989\n",
       "type             84438\n",
       "paint_color     121534\n",
       "state                0\n",
       "dtype: int64"
      ]
     },
     "execution_count": 74,
     "metadata": {},
     "output_type": "execute_result"
    }
   ],
   "execution_count": 74
  },
  {
   "cell_type": "markdown",
   "metadata": {},
   "source": [
    "We can attempt to infer the missing values for the cylinders column based on the available information for year, manufacturer, and model. This can be done using a lookup table"
   ]
  },
  {
   "cell_type": "code",
   "metadata": {
    "ExecuteTime": {
     "end_time": "2024-06-26T21:37:34.283127Z",
     "start_time": "2024-06-26T21:37:33.830323Z"
    }
   },
   "source": [
    "# Clean the 'cylinders' data\n",
    "vehicles_df['cylinders'] = vehicles_df['cylinders'].str.extract('(\\d+)').astype(float)"
   ],
   "outputs": [],
   "execution_count": 75
  },
  {
   "cell_type": "code",
   "metadata": {
    "ExecuteTime": {
     "end_time": "2024-06-26T21:37:34.600240Z",
     "start_time": "2024-06-26T21:37:34.284133Z"
    }
   },
   "source": [
    "# Create a lookup table from the non-missing cylinder data\n",
    "lookup_table = vehicles_df.dropna(subset=['cylinders'])[['year', 'manufacturer', 'model', 'cylinders', 'fuel']]\n",
    "lookup_table = lookup_table.drop_duplicates()\n",
    "\n",
    "# Convert the lookup table to a dictionary for fast lookup\n",
    "lookup_dict = lookup_table.set_index(['year', 'manufacturer', 'model']).to_dict()['cylinders']\n",
    "\n",
    "# Create a secondary lookup table based on 'fuel'\n",
    "fuel_lookup_table = lookup_table.groupby('fuel')['cylinders'].agg(lambda x: x.mode()[0]).reset_index()\n",
    "fuel_lookup_dict = fuel_lookup_table.set_index('fuel').to_dict()['cylinders']\n"
   ],
   "outputs": [],
   "execution_count": 76
  },
  {
   "cell_type": "code",
   "metadata": {
    "ExecuteTime": {
     "end_time": "2024-06-26T21:37:39.980899Z",
     "start_time": "2024-06-26T21:37:34.601245Z"
    }
   },
   "source": [
    "def fill_cylinders(row):\n",
    "    key = (row['year'], row['manufacturer'], row['model'])\n",
    "    if pd.isnull(row['cylinders']):\n",
    "        cylinders = lookup_dict.get(key, fuel_lookup_dict.get(row['fuel'], row['cylinders']))\n",
    "        if pd.notnull(cylinders):\n",
    "            if cylinders % 2 != 0:\n",
    "                # Ensure cylinders is a multiple of 2\n",
    "                cylinders = round(cylinders / 2) * 2\n",
    "            return cylinders\n",
    "    return row['cylinders']\n",
    "\n",
    "# Apply the function to fill missing cylinders values\n",
    "vehicles_df['cylinders'] = vehicles_df.apply(fill_cylinders, axis=1)\n",
    "\n",
    "# Verify the remaining missing values in the cylinders column\n",
    "vehicles_df['cylinders'].isnull().sum()\n"
   ],
   "outputs": [
    {
     "data": {
      "text/plain": [
       "639"
      ]
     },
     "execution_count": 77,
     "metadata": {},
     "output_type": "execute_result"
    }
   ],
   "execution_count": 77
  },
  {
   "cell_type": "code",
   "metadata": {
    "ExecuteTime": {
     "end_time": "2024-06-26T21:37:40.090920Z",
     "start_time": "2024-06-26T21:37:39.981904Z"
    }
   },
   "source": [
    "vehicles_df.isnull().sum()"
   ],
   "outputs": [
    {
     "data": {
      "text/plain": [
       "id                   0\n",
       "region               0\n",
       "price                0\n",
       "year                 0\n",
       "manufacturer         0\n",
       "model                0\n",
       "condition       164577\n",
       "cylinders          639\n",
       "fuel              1408\n",
       "odometer          4138\n",
       "transmission      2271\n",
       "drive           121267\n",
       "size            290989\n",
       "type             84438\n",
       "paint_color     121534\n",
       "state                0\n",
       "dtype: int64"
      ]
     },
     "execution_count": 78,
     "metadata": {},
     "output_type": "execute_result"
    }
   ],
   "execution_count": 78
  },
  {
   "cell_type": "code",
   "metadata": {
    "ExecuteTime": {
     "end_time": "2024-06-26T21:37:40.094430Z",
     "start_time": "2024-06-26T21:37:40.091925Z"
    }
   },
   "source": [],
   "outputs": [],
   "execution_count": 78
  },
  {
   "cell_type": "markdown",
   "metadata": {},
   "source": [
    "We can makde some assumptions about condition."
   ]
  },
  {
   "cell_type": "code",
   "metadata": {
    "ExecuteTime": {
     "end_time": "2024-06-26T21:37:40.363514Z",
     "start_time": "2024-06-26T21:37:40.095434Z"
    }
   },
   "source": [
    "# Create bins for mileage to simplify the lookup\n",
    "vehicles_df['mileage_bin'] = pd.cut(vehicles_df['odometer'], bins=10, labels=False)\n",
    "\n",
    "# Create a lookup table from the non-missing condition data\n",
    "condition_lookup_table = vehicles_df.dropna(subset=['condition'])[['year', 'mileage_bin', 'manufacturer', 'model', 'condition']]\n",
    "condition_lookup_table = condition_lookup_table.drop_duplicates()\n",
    "\n",
    "# Convert the lookup table to a dictionary for fast lookup\n",
    "condition_lookup_dict = condition_lookup_table.set_index(['year', 'mileage_bin', 'manufacturer', 'model']).to_dict()['condition']\n",
    "\n",
    "# Create additional lookup tables for fallback strategies\n",
    "condition_lookup_table_ym = condition_lookup_table.groupby(['year', 'mileage_bin'])['condition'].agg(lambda x: x.mode()[0]).reset_index()\n",
    "condition_lookup_dict_ym = condition_lookup_table_ym.set_index(['year', 'mileage_bin']).to_dict()['condition']\n",
    "\n",
    "condition_lookup_table_y = condition_lookup_table.groupby('year')['condition'].agg(lambda x: x.mode()[0]).reset_index()\n",
    "condition_lookup_dict_y = condition_lookup_table_y.set_index('year').to_dict()['condition']\n"
   ],
   "outputs": [],
   "execution_count": 79
  },
  {
   "cell_type": "code",
   "metadata": {
    "ExecuteTime": {
     "end_time": "2024-06-26T21:37:47.968643Z",
     "start_time": "2024-06-26T21:37:40.364699Z"
    }
   },
   "source": [
    "def fill_condition(row):\n",
    "    key_full = (row['year'], row['mileage_bin'], row['manufacturer'], row['model'])\n",
    "    key_ym = (row['year'], row['mileage_bin'])\n",
    "    key_y = row['year']\n",
    "\n",
    "    if pd.isnull(row['condition']):\n",
    "        return condition_lookup_dict.get(key_full, condition_lookup_dict_ym.get(key_ym, condition_lookup_dict_y.get(key_y, row['condition'])))\n",
    "    else:\n",
    "        return row['condition']\n",
    "\n",
    "# Apply the function to fill missing condition values\n",
    "vehicles_df['condition'] = vehicles_df.apply(fill_condition, axis=1)\n",
    "\n",
    "# Drop the mileage_bin column as it was only needed for imputation\n",
    "vehicles_df = vehicles_df.drop(columns=['mileage_bin'])\n"
   ],
   "outputs": [],
   "execution_count": 80
  },
  {
   "cell_type": "code",
   "metadata": {
    "ExecuteTime": {
     "end_time": "2024-06-26T21:37:48.084039Z",
     "start_time": "2024-06-26T21:37:47.969462Z"
    }
   },
   "source": [
    "\n",
    "# Verify that there are no more missing values in the condition column\n",
    "vehicles_df.isnull().sum()"
   ],
   "outputs": [
    {
     "data": {
      "text/plain": [
       "id                   0\n",
       "region               0\n",
       "price                0\n",
       "year                 0\n",
       "manufacturer         0\n",
       "model                0\n",
       "condition           14\n",
       "cylinders          639\n",
       "fuel              1408\n",
       "odometer          4138\n",
       "transmission      2271\n",
       "drive           121267\n",
       "size            290989\n",
       "type             84438\n",
       "paint_color     121534\n",
       "state                0\n",
       "dtype: int64"
      ]
     },
     "execution_count": 81,
     "metadata": {},
     "output_type": "execute_result"
    }
   ],
   "execution_count": 81
  },
  {
   "cell_type": "code",
   "metadata": {
    "ExecuteTime": {
     "end_time": "2024-06-26T21:37:48.156057Z",
     "start_time": "2024-06-26T21:37:48.089043Z"
    }
   },
   "source": [
    "vehicles_df = vehicles_df.dropna(subset=['condition'])"
   ],
   "outputs": [],
   "execution_count": 82
  },
  {
   "cell_type": "code",
   "metadata": {
    "ExecuteTime": {
     "end_time": "2024-06-26T21:37:48.270585Z",
     "start_time": "2024-06-26T21:37:48.157062Z"
    }
   },
   "source": [
    "vehicles_df.isnull().sum()"
   ],
   "outputs": [
    {
     "data": {
      "text/plain": [
       "id                   0\n",
       "region               0\n",
       "price                0\n",
       "year                 0\n",
       "manufacturer         0\n",
       "model                0\n",
       "condition            0\n",
       "cylinders          639\n",
       "fuel              1408\n",
       "odometer          4126\n",
       "transmission      2259\n",
       "drive           121253\n",
       "size            290975\n",
       "type             84436\n",
       "paint_color     121520\n",
       "state                0\n",
       "dtype: int64"
      ]
     },
     "execution_count": 83,
     "metadata": {},
     "output_type": "execute_result"
    }
   ],
   "execution_count": 83
  },
  {
   "cell_type": "code",
   "metadata": {
    "ExecuteTime": {
     "end_time": "2024-06-26T21:37:48.597764Z",
     "start_time": "2024-06-26T21:37:48.271591Z"
    }
   },
   "source": [
    "# Create a lookup table from the non-missing fuel data\n",
    "fuel_lookup_table = vehicles_df.dropna(subset=['fuel'])[['manufacturer', 'model', 'year', 'fuel']]\n",
    "fuel_lookup_table = fuel_lookup_table.drop_duplicates()\n",
    "\n",
    "# Convert the lookup table to a dictionary for fast lookup\n",
    "fuel_lookup_dict = fuel_lookup_table.set_index(['manufacturer', 'model', 'year']).to_dict()['fuel']"
   ],
   "outputs": [],
   "execution_count": 84
  },
  {
   "cell_type": "code",
   "metadata": {
    "ExecuteTime": {
     "end_time": "2024-06-26T21:37:52.800324Z",
     "start_time": "2024-06-26T21:37:48.598774Z"
    }
   },
   "source": [
    "def fill_fuel(row):\n",
    "    key = (row['manufacturer'], row['model'])\n",
    "    if pd.isnull(row['fuel']):\n",
    "        return fuel_lookup_dict.get(key, row['fuel'])\n",
    "    else:\n",
    "        return row['fuel']\n",
    "\n",
    "# Apply the function to fill missing fuel values\n",
    "vehicles_df['fuel'] = vehicles_df.apply(fill_fuel, axis=1)\n",
    "\n",
    "# Verify the remaining missing values in the fuel column\n",
    "vehicles_df['fuel'].isnull().sum()"
   ],
   "outputs": [
    {
     "data": {
      "text/plain": [
       "1408"
      ]
     },
     "execution_count": 85,
     "metadata": {},
     "output_type": "execute_result"
    }
   ],
   "execution_count": 85
  },
  {
   "cell_type": "code",
   "metadata": {
    "ExecuteTime": {
     "end_time": "2024-06-26T21:37:52.822706Z",
     "start_time": "2024-06-26T21:37:52.801329Z"
    }
   },
   "source": [
    "missing_fuel_records = vehicles_df[vehicles_df['fuel'].isnull()]\n",
    "missing_fuel_records"
   ],
   "outputs": [
    {
     "data": {
      "text/plain": [
       "                id      region  price    year manufacturer  \\\n",
       "225     7316396026  birmingham  20995  2011.0    chevrolet   \n",
       "226     7316395026  birmingham  25995  2015.0    chevrolet   \n",
       "227     7316393935  birmingham  31995  2014.0    chevrolet   \n",
       "1343    7306292125  birmingham  19995  2011.0         jeep   \n",
       "1569    7303800718  birmingham   9995  2011.0       toyota   \n",
       "...            ...         ...    ...     ...          ...   \n",
       "421647  7304269747     madison   5480  2007.0        honda   \n",
       "421648  7304259777     madison  14495  2013.0         audi   \n",
       "421811  7303278055     madison   6895  2009.0       nissan   \n",
       "421812  7303268495     madison   6780  2007.0         ford   \n",
       "421814  7303261876     madison   5795  2008.0    chevrolet   \n",
       "\n",
       "                                             model  condition  cylinders fuel  \\\n",
       "225                silverado 1500 ltz crew cab 4wd  excellent        NaN  NaN   \n",
       "226                 silverado 1500 lt crew cab 4wd  excellent        NaN  NaN   \n",
       "227       silverado 1500 2lt crew cab long box 4wd  excellent        NaN  NaN   \n",
       "1343                     wrangler right hand drive  excellent        NaN  NaN   \n",
       "1569                                 prius prius v  excellent        NaN  NaN   \n",
       "...                                            ...        ...        ...  ...   \n",
       "421647  accord ex-l v-6 coupe at 5-speed automatic  excellent        NaN  NaN   \n",
       "421648    q5 3.0 quattro premium 6-speed automatic  excellent        NaN  NaN   \n",
       "421811                           murano sl awd cvt  excellent        NaN  NaN   \n",
       "421812       escape xlt 4wd 2.3l 4-speed automatic  excellent        NaN  NaN   \n",
       "421814       trailblazer lt2 4wd 4-speed automatic  excellent        NaN  NaN   \n",
       "\n",
       "        odometer transmission drive size       type paint_color state  \n",
       "225     137701.0    automatic   4wd  NaN     pickup         NaN    al  \n",
       "226     151681.0    automatic   4wd  NaN     pickup         NaN    al  \n",
       "227      66738.0    automatic   4wd  NaN     pickup         NaN    al  \n",
       "1343     87857.0       manual   4wd  NaN        SUV         NaN    al  \n",
       "1569    104087.0        other   fwd  NaN  hatchback      silver    al  \n",
       "...          ...          ...   ...  ...        ...         ...   ...  \n",
       "421647  153187.0    automatic   fwd  NaN      coupe         NaN    wi  \n",
       "421648  114112.0    automatic   4wd  NaN        SUV         NaN    wi  \n",
       "421811  134933.0        other   4wd  NaN        SUV         NaN    wi  \n",
       "421812   66283.0    automatic   4wd  NaN        SUV         NaN    wi  \n",
       "421814  166517.0    automatic   4wd  NaN        SUV         NaN    wi  \n",
       "\n",
       "[1408 rows x 16 columns]"
      ],
      "text/html": [
       "<div>\n",
       "<style scoped>\n",
       "    .dataframe tbody tr th:only-of-type {\n",
       "        vertical-align: middle;\n",
       "    }\n",
       "\n",
       "    .dataframe tbody tr th {\n",
       "        vertical-align: top;\n",
       "    }\n",
       "\n",
       "    .dataframe thead th {\n",
       "        text-align: right;\n",
       "    }\n",
       "</style>\n",
       "<table border=\"1\" class=\"dataframe\">\n",
       "  <thead>\n",
       "    <tr style=\"text-align: right;\">\n",
       "      <th></th>\n",
       "      <th>id</th>\n",
       "      <th>region</th>\n",
       "      <th>price</th>\n",
       "      <th>year</th>\n",
       "      <th>manufacturer</th>\n",
       "      <th>model</th>\n",
       "      <th>condition</th>\n",
       "      <th>cylinders</th>\n",
       "      <th>fuel</th>\n",
       "      <th>odometer</th>\n",
       "      <th>transmission</th>\n",
       "      <th>drive</th>\n",
       "      <th>size</th>\n",
       "      <th>type</th>\n",
       "      <th>paint_color</th>\n",
       "      <th>state</th>\n",
       "    </tr>\n",
       "  </thead>\n",
       "  <tbody>\n",
       "    <tr>\n",
       "      <th>225</th>\n",
       "      <td>7316396026</td>\n",
       "      <td>birmingham</td>\n",
       "      <td>20995</td>\n",
       "      <td>2011.0</td>\n",
       "      <td>chevrolet</td>\n",
       "      <td>silverado 1500 ltz crew cab 4wd</td>\n",
       "      <td>excellent</td>\n",
       "      <td>NaN</td>\n",
       "      <td>NaN</td>\n",
       "      <td>137701.0</td>\n",
       "      <td>automatic</td>\n",
       "      <td>4wd</td>\n",
       "      <td>NaN</td>\n",
       "      <td>pickup</td>\n",
       "      <td>NaN</td>\n",
       "      <td>al</td>\n",
       "    </tr>\n",
       "    <tr>\n",
       "      <th>226</th>\n",
       "      <td>7316395026</td>\n",
       "      <td>birmingham</td>\n",
       "      <td>25995</td>\n",
       "      <td>2015.0</td>\n",
       "      <td>chevrolet</td>\n",
       "      <td>silverado 1500 lt crew cab 4wd</td>\n",
       "      <td>excellent</td>\n",
       "      <td>NaN</td>\n",
       "      <td>NaN</td>\n",
       "      <td>151681.0</td>\n",
       "      <td>automatic</td>\n",
       "      <td>4wd</td>\n",
       "      <td>NaN</td>\n",
       "      <td>pickup</td>\n",
       "      <td>NaN</td>\n",
       "      <td>al</td>\n",
       "    </tr>\n",
       "    <tr>\n",
       "      <th>227</th>\n",
       "      <td>7316393935</td>\n",
       "      <td>birmingham</td>\n",
       "      <td>31995</td>\n",
       "      <td>2014.0</td>\n",
       "      <td>chevrolet</td>\n",
       "      <td>silverado 1500 2lt crew cab long box 4wd</td>\n",
       "      <td>excellent</td>\n",
       "      <td>NaN</td>\n",
       "      <td>NaN</td>\n",
       "      <td>66738.0</td>\n",
       "      <td>automatic</td>\n",
       "      <td>4wd</td>\n",
       "      <td>NaN</td>\n",
       "      <td>pickup</td>\n",
       "      <td>NaN</td>\n",
       "      <td>al</td>\n",
       "    </tr>\n",
       "    <tr>\n",
       "      <th>1343</th>\n",
       "      <td>7306292125</td>\n",
       "      <td>birmingham</td>\n",
       "      <td>19995</td>\n",
       "      <td>2011.0</td>\n",
       "      <td>jeep</td>\n",
       "      <td>wrangler right hand drive</td>\n",
       "      <td>excellent</td>\n",
       "      <td>NaN</td>\n",
       "      <td>NaN</td>\n",
       "      <td>87857.0</td>\n",
       "      <td>manual</td>\n",
       "      <td>4wd</td>\n",
       "      <td>NaN</td>\n",
       "      <td>SUV</td>\n",
       "      <td>NaN</td>\n",
       "      <td>al</td>\n",
       "    </tr>\n",
       "    <tr>\n",
       "      <th>1569</th>\n",
       "      <td>7303800718</td>\n",
       "      <td>birmingham</td>\n",
       "      <td>9995</td>\n",
       "      <td>2011.0</td>\n",
       "      <td>toyota</td>\n",
       "      <td>prius prius v</td>\n",
       "      <td>excellent</td>\n",
       "      <td>NaN</td>\n",
       "      <td>NaN</td>\n",
       "      <td>104087.0</td>\n",
       "      <td>other</td>\n",
       "      <td>fwd</td>\n",
       "      <td>NaN</td>\n",
       "      <td>hatchback</td>\n",
       "      <td>silver</td>\n",
       "      <td>al</td>\n",
       "    </tr>\n",
       "    <tr>\n",
       "      <th>...</th>\n",
       "      <td>...</td>\n",
       "      <td>...</td>\n",
       "      <td>...</td>\n",
       "      <td>...</td>\n",
       "      <td>...</td>\n",
       "      <td>...</td>\n",
       "      <td>...</td>\n",
       "      <td>...</td>\n",
       "      <td>...</td>\n",
       "      <td>...</td>\n",
       "      <td>...</td>\n",
       "      <td>...</td>\n",
       "      <td>...</td>\n",
       "      <td>...</td>\n",
       "      <td>...</td>\n",
       "      <td>...</td>\n",
       "    </tr>\n",
       "    <tr>\n",
       "      <th>421647</th>\n",
       "      <td>7304269747</td>\n",
       "      <td>madison</td>\n",
       "      <td>5480</td>\n",
       "      <td>2007.0</td>\n",
       "      <td>honda</td>\n",
       "      <td>accord ex-l v-6 coupe at 5-speed automatic</td>\n",
       "      <td>excellent</td>\n",
       "      <td>NaN</td>\n",
       "      <td>NaN</td>\n",
       "      <td>153187.0</td>\n",
       "      <td>automatic</td>\n",
       "      <td>fwd</td>\n",
       "      <td>NaN</td>\n",
       "      <td>coupe</td>\n",
       "      <td>NaN</td>\n",
       "      <td>wi</td>\n",
       "    </tr>\n",
       "    <tr>\n",
       "      <th>421648</th>\n",
       "      <td>7304259777</td>\n",
       "      <td>madison</td>\n",
       "      <td>14495</td>\n",
       "      <td>2013.0</td>\n",
       "      <td>audi</td>\n",
       "      <td>q5 3.0 quattro premium 6-speed automatic</td>\n",
       "      <td>excellent</td>\n",
       "      <td>NaN</td>\n",
       "      <td>NaN</td>\n",
       "      <td>114112.0</td>\n",
       "      <td>automatic</td>\n",
       "      <td>4wd</td>\n",
       "      <td>NaN</td>\n",
       "      <td>SUV</td>\n",
       "      <td>NaN</td>\n",
       "      <td>wi</td>\n",
       "    </tr>\n",
       "    <tr>\n",
       "      <th>421811</th>\n",
       "      <td>7303278055</td>\n",
       "      <td>madison</td>\n",
       "      <td>6895</td>\n",
       "      <td>2009.0</td>\n",
       "      <td>nissan</td>\n",
       "      <td>murano sl awd cvt</td>\n",
       "      <td>excellent</td>\n",
       "      <td>NaN</td>\n",
       "      <td>NaN</td>\n",
       "      <td>134933.0</td>\n",
       "      <td>other</td>\n",
       "      <td>4wd</td>\n",
       "      <td>NaN</td>\n",
       "      <td>SUV</td>\n",
       "      <td>NaN</td>\n",
       "      <td>wi</td>\n",
       "    </tr>\n",
       "    <tr>\n",
       "      <th>421812</th>\n",
       "      <td>7303268495</td>\n",
       "      <td>madison</td>\n",
       "      <td>6780</td>\n",
       "      <td>2007.0</td>\n",
       "      <td>ford</td>\n",
       "      <td>escape xlt 4wd 2.3l 4-speed automatic</td>\n",
       "      <td>excellent</td>\n",
       "      <td>NaN</td>\n",
       "      <td>NaN</td>\n",
       "      <td>66283.0</td>\n",
       "      <td>automatic</td>\n",
       "      <td>4wd</td>\n",
       "      <td>NaN</td>\n",
       "      <td>SUV</td>\n",
       "      <td>NaN</td>\n",
       "      <td>wi</td>\n",
       "    </tr>\n",
       "    <tr>\n",
       "      <th>421814</th>\n",
       "      <td>7303261876</td>\n",
       "      <td>madison</td>\n",
       "      <td>5795</td>\n",
       "      <td>2008.0</td>\n",
       "      <td>chevrolet</td>\n",
       "      <td>trailblazer lt2 4wd 4-speed automatic</td>\n",
       "      <td>excellent</td>\n",
       "      <td>NaN</td>\n",
       "      <td>NaN</td>\n",
       "      <td>166517.0</td>\n",
       "      <td>automatic</td>\n",
       "      <td>4wd</td>\n",
       "      <td>NaN</td>\n",
       "      <td>SUV</td>\n",
       "      <td>NaN</td>\n",
       "      <td>wi</td>\n",
       "    </tr>\n",
       "  </tbody>\n",
       "</table>\n",
       "<p>1408 rows × 16 columns</p>\n",
       "</div>"
      ]
     },
     "execution_count": 86,
     "metadata": {},
     "output_type": "execute_result"
    }
   ],
   "execution_count": 86
  },
  {
   "cell_type": "code",
   "metadata": {
    "ExecuteTime": {
     "end_time": "2024-06-26T21:37:52.943332Z",
     "start_time": "2024-06-26T21:37:52.823775Z"
    }
   },
   "source": [
    "vehicles_df.isnull().sum()"
   ],
   "outputs": [
    {
     "data": {
      "text/plain": [
       "id                   0\n",
       "region               0\n",
       "price                0\n",
       "year                 0\n",
       "manufacturer         0\n",
       "model                0\n",
       "condition            0\n",
       "cylinders          639\n",
       "fuel              1408\n",
       "odometer          4126\n",
       "transmission      2259\n",
       "drive           121253\n",
       "size            290975\n",
       "type             84436\n",
       "paint_color     121520\n",
       "state                0\n",
       "dtype: int64"
      ]
     },
     "execution_count": 87,
     "metadata": {},
     "output_type": "execute_result"
    }
   ],
   "execution_count": 87
  },
  {
   "cell_type": "code",
   "metadata": {
    "ExecuteTime": {
     "end_time": "2024-06-26T21:37:53.061070Z",
     "start_time": "2024-06-26T21:37:52.945333Z"
    }
   },
   "source": [
    "# Create a lookup table from the non-missing odometer data\n",
    "odometer_lookup_table = vehicles_df.dropna(subset=['odometer'])[['condition', 'year', 'odometer']]\n",
    "odometer_lookup_table = odometer_lookup_table.groupby(['condition', 'year'])['odometer'].median().reset_index()\n",
    "\n",
    "# Convert the lookup table to a dictionary for fast lookup\n",
    "odometer_lookup_dict = odometer_lookup_table.set_index(['condition', 'year']).to_dict()['odometer']"
   ],
   "outputs": [],
   "execution_count": 88
  },
  {
   "cell_type": "code",
   "metadata": {
    "ExecuteTime": {
     "end_time": "2024-06-26T21:37:57.919408Z",
     "start_time": "2024-06-26T21:37:53.062076Z"
    }
   },
   "source": [
    "def fill_odometer(row):\n",
    "    key = (row['condition'], row['year'])\n",
    "    if pd.isnull(row['odometer']):\n",
    "        return odometer_lookup_dict.get(key, row['odometer'])\n",
    "    else:\n",
    "        return row['odometer']\n",
    "\n",
    "# Apply the function to fill missing odometer values\n",
    "vehicles_df['odometer'] = vehicles_df.apply(fill_odometer, axis=1)\n",
    "\n",
    "# Verify the remaining missing values in the odometer column\n",
    "vehicles_df['odometer'].isnull().sum()"
   ],
   "outputs": [
    {
     "data": {
      "text/plain": [
       "0"
      ]
     },
     "execution_count": 89,
     "metadata": {},
     "output_type": "execute_result"
    }
   ],
   "execution_count": 89
  },
  {
   "cell_type": "code",
   "metadata": {
    "ExecuteTime": {
     "end_time": "2024-06-26T21:37:58.028431Z",
     "start_time": "2024-06-26T21:37:57.920447Z"
    }
   },
   "source": [
    "vehicles_df.isnull().sum()"
   ],
   "outputs": [
    {
     "data": {
      "text/plain": [
       "id                   0\n",
       "region               0\n",
       "price                0\n",
       "year                 0\n",
       "manufacturer         0\n",
       "model                0\n",
       "condition            0\n",
       "cylinders          639\n",
       "fuel              1408\n",
       "odometer             0\n",
       "transmission      2259\n",
       "drive           121253\n",
       "size            290975\n",
       "type             84436\n",
       "paint_color     121520\n",
       "state                0\n",
       "dtype: int64"
      ]
     },
     "execution_count": 90,
     "metadata": {},
     "output_type": "execute_result"
    }
   ],
   "execution_count": 90
  },
  {
   "metadata": {},
   "cell_type": "markdown",
   "source": "Let's clean upd the drive column. "
  },
  {
   "metadata": {
    "ExecuteTime": {
     "end_time": "2024-06-26T21:38:00.057434Z",
     "start_time": "2024-06-26T21:37:58.029441Z"
    }
   },
   "cell_type": "code",
   "source": [
    "# Create a lookup table from the non-missing drive data\n",
    "drive_lookup_table = vehicles_df.dropna(subset=['drive'])[['year', 'manufacturer', 'model', 'drive']]\n",
    "drive_lookup_table = drive_lookup_table.drop_duplicates()\n",
    "\n",
    "# Convert the lookup table to dictionaries for fast lookup\n",
    "drive_lookup_dict = drive_lookup_table.set_index(['year', 'manufacturer', 'model']).to_dict()['drive']\n",
    "drive_fallback_lookup_dict = drive_lookup_table.groupby(['manufacturer', 'model'])['drive'].agg(lambda x: x.mode()[0]).to_dict()"
   ],
   "outputs": [],
   "execution_count": 91
  },
  {
   "metadata": {
    "ExecuteTime": {
     "end_time": "2024-06-26T21:38:06.846277Z",
     "start_time": "2024-06-26T21:38:00.058442Z"
    }
   },
   "cell_type": "code",
   "source": [
    "\n",
    "def fill_drive(row):\n",
    "    key = (row['year'], row['manufacturer'], row['model'])\n",
    "    fallback_key = (row['manufacturer'], row['model'])\n",
    "    if pd.isnull(row['drive']):\n",
    "        drive = drive_lookup_dict.get(key, drive_fallback_lookup_dict.get(fallback_key, row['drive']))\n",
    "        return drive\n",
    "    else:\n",
    "        return row['drive']\n",
    "\n",
    "# Apply the function to fill missing drive values\n",
    "vehicles_df['drive'] = vehicles_df.apply(fill_drive, axis=1)\n",
    "\n",
    "# Verify the remaining missing values in the drive column\n",
    "vehicles_df['drive'].isnull().sum()"
   ],
   "outputs": [
    {
     "data": {
      "text/plain": [
       "19505"
      ]
     },
     "execution_count": 92,
     "metadata": {},
     "output_type": "execute_result"
    }
   ],
   "execution_count": 92
  },
  {
   "metadata": {
    "ExecuteTime": {
     "end_time": "2024-06-26T21:38:06.849422Z",
     "start_time": "2024-06-26T21:38:06.847282Z"
    }
   },
   "cell_type": "code",
   "source": "",
   "outputs": [],
   "execution_count": 92
  },
  {
   "metadata": {},
   "cell_type": "markdown",
   "source": "Let's clean up the size column. "
  },
  {
   "metadata": {
    "ExecuteTime": {
     "end_time": "2024-06-26T21:38:07.849689Z",
     "start_time": "2024-06-26T21:38:06.850429Z"
    }
   },
   "cell_type": "code",
   "source": [
    "# Create a lookup table from the non-missing size data\n",
    "size_lookup_table = vehicles_df.dropna(subset=['size'])[['year', 'manufacturer', 'model', 'size']]\n",
    "size_lookup_table = size_lookup_table.drop_duplicates()\n",
    "\n",
    "# Convert the lookup table to dictionaries for fast lookup\n",
    "size_lookup_dict = size_lookup_table.set_index(['year', 'manufacturer', 'model']).to_dict()['size']\n",
    "size_fallback_lookup_dict = size_lookup_table.groupby(['manufacturer', 'model'])['size'].agg(lambda x: x.mode()[0]).to_dict()"
   ],
   "outputs": [],
   "execution_count": 93
  },
  {
   "metadata": {
    "ExecuteTime": {
     "end_time": "2024-06-26T21:38:14.271126Z",
     "start_time": "2024-06-26T21:38:07.850702Z"
    }
   },
   "cell_type": "code",
   "source": [
    "def fill_size(row):\n",
    "    key = (row['year'], row['manufacturer'], row['model'])\n",
    "    fallback_key = (row['manufacturer'], row['model'])\n",
    "    if pd.isnull(row['size']):\n",
    "        drive = drive_lookup_dict.get(key, drive_fallback_lookup_dict.get(fallback_key, row['size']))\n",
    "        return drive\n",
    "    else:\n",
    "        return row['size']\n",
    "\n",
    "# Apply the function to fill missing size values\n",
    "vehicles_df['size'] = vehicles_df.apply(fill_size, axis=1)\n",
    "\n",
    "# Verify the remaining missing values in the size column\n",
    "vehicles_df['size'].isnull().sum()"
   ],
   "outputs": [
    {
     "data": {
      "text/plain": [
       "19131"
      ]
     },
     "execution_count": 94,
     "metadata": {},
     "output_type": "execute_result"
    }
   ],
   "execution_count": 94
  },
  {
   "metadata": {},
   "cell_type": "markdown",
   "source": "Let's clean up the type column."
  },
  {
   "metadata": {
    "ExecuteTime": {
     "end_time": "2024-06-26T21:38:16.254797Z",
     "start_time": "2024-06-26T21:38:14.272132Z"
    }
   },
   "cell_type": "code",
   "source": [
    "# Create a lookup table from the non-missing type data\n",
    "type_lookup_table = vehicles_df.dropna(subset=['type'])[['year', 'manufacturer', 'model', 'type']]\n",
    "type_lookup_table = type_lookup_table.drop_duplicates()\n",
    "\n",
    "# Convert the lookup table to dictionaries for fast lookup\n",
    "type_lookup_dict = type_lookup_table.set_index(['year', 'manufacturer', 'model']).to_dict()['type']\n",
    "type_fallback_lookup_dict = type_lookup_table.groupby(['manufacturer', 'model'])['type'].agg(lambda x: x.mode()[0]).to_dict()\n"
   ],
   "outputs": [],
   "execution_count": 95
  },
  {
   "metadata": {
    "ExecuteTime": {
     "end_time": "2024-06-26T21:38:22.604143Z",
     "start_time": "2024-06-26T21:38:16.255851Z"
    }
   },
   "cell_type": "code",
   "source": [
    "\n",
    "def fill_type(row):\n",
    "    key = (row['year'], row['manufacturer'], row['model'])\n",
    "    fallback_key = (row['manufacturer'], row['model'])\n",
    "    if pd.isnull(row['type']):\n",
    "        type = type_lookup_dict.get(key, type_fallback_lookup_dict.get(fallback_key, row['type']))\n",
    "        return type\n",
    "    else:\n",
    "        return row['type']\n",
    "\n",
    "# Apply the function to fill missing type values\n",
    "vehicles_df['type'] = vehicles_df.apply(fill_type, axis=1)\n",
    "\n",
    "# Verify the remaining missing values in the type column\n",
    "vehicles_df['type'].isnull().sum()"
   ],
   "outputs": [
    {
     "data": {
      "text/plain": [
       "6648"
      ]
     },
     "execution_count": 96,
     "metadata": {},
     "output_type": "execute_result"
    }
   ],
   "execution_count": 96
  },
  {
   "metadata": {},
   "cell_type": "markdown",
   "source": "Let's clean up remaining records that have missing values."
  },
  {
   "cell_type": "code",
   "metadata": {
    "ExecuteTime": {
     "end_time": "2024-06-26T21:38:22.920894Z",
     "start_time": "2024-06-26T21:38:22.605148Z"
    }
   },
   "source": [
    "vehicles_df.isnull().sum()\n",
    "\n",
    "vehicles_df = vehicles_df.dropna()\n",
    "\n",
    "vehicles_df.isnull().sum()"
   ],
   "outputs": [
    {
     "data": {
      "text/plain": [
       "id              0\n",
       "region          0\n",
       "price           0\n",
       "year            0\n",
       "manufacturer    0\n",
       "model           0\n",
       "condition       0\n",
       "cylinders       0\n",
       "fuel            0\n",
       "odometer        0\n",
       "transmission    0\n",
       "drive           0\n",
       "size            0\n",
       "type            0\n",
       "paint_color     0\n",
       "state           0\n",
       "dtype: int64"
      ]
     },
     "execution_count": 97,
     "metadata": {},
     "output_type": "execute_result"
    }
   ],
   "execution_count": 97
  },
  {
   "metadata": {
    "ExecuteTime": {
     "end_time": "2024-06-26T21:38:22.923976Z",
     "start_time": "2024-06-26T21:38:22.921932Z"
    }
   },
   "cell_type": "code",
   "source": "",
   "outputs": [],
   "execution_count": 97
  },
  {
   "cell_type": "markdown",
   "metadata": {},
   "source": [
    "### Modeling\n",
    "\n",
    "With your (almost?) final dataset in hand, it is now time to build some models.  Here, you should build a number of different regression models with the price as the target.  In building your models, you should explore different parameters and be sure to cross-validate your findings."
   ]
  },
  {
   "cell_type": "code",
   "metadata": {
    "ExecuteTime": {
     "end_time": "2024-06-26T21:38:22.929203Z",
     "start_time": "2024-06-26T21:38:22.923976Z"
    }
   },
   "source": [
    "from sklearn.linear_model import LinearRegression, ElasticNet, Ridge\n",
    "from sklearn.tree import DecisionTreeRegressor\n",
    "from sklearn.metrics import mean_squared_error, r2_score\n",
    "from sklearn.model_selection import train_test_split,  RandomizedSearchCV, HalvingRandomSearchCV\n",
    "from sklearn.preprocessing import StandardScaler, OneHotEncoder\n",
    "from sklearn.compose import ColumnTransformer\n",
    "from sklearn.dummy import DummyRegressor\n",
    "from sklearn.pipeline import Pipeline\n",
    "from lightgbm import LGBMRegressor\n",
    "from xgboost import XGBRegressor\n",
    "from sklearn.ensemble import BaggingRegressor\n",
    "import numpy as np"
   ],
   "outputs": [],
   "execution_count": 98
  },
  {
   "metadata": {
    "ExecuteTime": {
     "end_time": "2024-06-26T21:38:22.972893Z",
     "start_time": "2024-06-26T21:38:22.930242Z"
    }
   },
   "cell_type": "code",
   "source": [
    "# Remove outliers in the target variable\n",
    "vehicles_df = vehicles_df[vehicles_df['price'] < vehicles_df['price'].quantile(0.95)]"
   ],
   "outputs": [],
   "execution_count": 99
  },
  {
   "cell_type": "code",
   "metadata": {
    "ExecuteTime": {
     "end_time": "2024-06-26T21:38:22.977349Z",
     "start_time": "2024-06-26T21:38:22.973932Z"
    }
   },
   "source": [
    "categorical_cols = ['manufacturer', 'model', 'condition', 'fuel',  'transmission', 'drive', 'size', 'type', 'paint_color']\n",
    "numerical_cols = ['year', 'odometer', 'cylinders']"
   ],
   "outputs": [],
   "execution_count": 100
  },
  {
   "metadata": {
    "ExecuteTime": {
     "end_time": "2024-06-26T21:38:23.006328Z",
     "start_time": "2024-06-26T21:38:22.978390Z"
    }
   },
   "cell_type": "code",
   "source": [
    "# Split data into features and target variable\n",
    "X = vehicles_df[categorical_cols + numerical_cols]\n",
    "y = vehicles_df['price']"
   ],
   "outputs": [],
   "execution_count": 101
  },
  {
   "metadata": {
    "ExecuteTime": {
     "end_time": "2024-06-26T21:38:23.010431Z",
     "start_time": "2024-06-26T21:38:23.007368Z"
    }
   },
   "cell_type": "code",
   "source": [
    "# Define preprocessing steps\n",
    "preprocessor = ColumnTransformer(\n",
    "    transformers=[\n",
    "        ('num', StandardScaler(), numerical_cols),\n",
    "        ('cat', OneHotEncoder(handle_unknown='ignore'), categorical_cols)\n",
    "    ])\n"
   ],
   "outputs": [],
   "execution_count": 102
  },
  {
   "metadata": {
    "ExecuteTime": {
     "end_time": "2024-06-26T21:38:23.076002Z",
     "start_time": "2024-06-26T21:38:23.012242Z"
    }
   },
   "cell_type": "code",
   "source": [
    "# Split the data\n",
    "X_train, X_test, y_train, y_test = train_test_split(X, y, test_size=0.2, random_state=42)"
   ],
   "outputs": [],
   "execution_count": 103
  },
  {
   "metadata": {
    "ExecuteTime": {
     "end_time": "2024-06-26T21:38:41.303025Z",
     "start_time": "2024-06-26T21:38:23.077010Z"
    }
   },
   "cell_type": "code",
   "source": [
    "# Define the preprocessing and model pipeline\n",
    "elastic_net_model = Pipeline(steps=[\n",
    "    ('preprocessor', preprocessor),  # Preprocess the data (e.g., scaling, encoding)\n",
    "    ('regressor', ElasticNet())  # Apply ElasticNet regression\n",
    "])\n",
    "\n",
    "# Train the model on the training data\n",
    "elastic_net_model.fit(X_train, y_train)\n",
    "\n",
    "# Predict the target values for the test set\n",
    "y_pred_elastic = elastic_net_model.predict(X_test)\n",
    "\n",
    "# Evaluate the model performance using Mean Squared Error (MSE), Root Mean Squared Error (RMSE), and R^2 score\n",
    "mse_elastic = mean_squared_error(y_test, y_pred_elastic)  # Calculate MSE\n",
    "rmse_elastic = np.sqrt(mse_elastic)  # Calculate RMSE from MSE\n",
    "r2_elastic = r2_score(y_test, y_pred_elastic)  # Calculate R^2 score\n",
    "\n",
    "# Print the evaluation metrics\n",
    "print(f'ElasticNet Regression: MSE={mse_elastic}, RMSE={rmse_elastic}, R^2={r2_elastic}')"
   ],
   "outputs": [
    {
     "name": "stdout",
     "output_type": "stream",
     "text": [
      "ElasticNet Regression: MSE=88315248.57693706, RMSE=9397.619303682028, R^2=0.32443370892348944\n"
     ]
    }
   ],
   "execution_count": 104
  },
  {
   "metadata": {
    "ExecuteTime": {
     "end_time": "2024-06-26T21:38:59.995085Z",
     "start_time": "2024-06-26T21:38:41.304063Z"
    }
   },
   "cell_type": "code",
   "source": [
    "# Define the preprocessing and model pipeline\n",
    "model = Pipeline(steps=[\n",
    "    ('preprocessor', preprocessor),  # Preprocess the data (e.g., scaling, encoding)\n",
    "    ('regressor', LinearRegression())  # Apply Linear Regression\n",
    "])\n",
    "\n",
    "# Train the model on the training data\n",
    "model.fit(X_train, y_train)\n",
    "\n",
    "# Predict the target values for the test set\n",
    "y_pred = model.predict(X_test)\n",
    "\n",
    "# Evaluate the model performance using Mean Squared Error (MSE), Root Mean Squared Error (RMSE), and R^2 score\n",
    "mse = mean_squared_error(y_test, y_pred)  # Calculate MSE\n",
    "rmse = np.sqrt(mse)  # Calculate RMSE from MSE\n",
    "r2 = r2_score(y_test, y_pred)  # Calculate R^2 score\n",
    "\n",
    "# Print the evaluation metrics\n",
    "print(f'Linear Regression: MSE={mse}, RMSE={rmse}, R^2={r2}')\n"
   ],
   "outputs": [
    {
     "name": "stdout",
     "output_type": "stream",
     "text": [
      "Linear Regression: MSE=56330805.40651845, RMSE=7505.385093818868, R^2=0.5690982713060926\n"
     ]
    }
   ],
   "execution_count": 105
  },
  {
   "metadata": {
    "ExecuteTime": {
     "end_time": "2024-06-26T21:39:03.454029Z",
     "start_time": "2024-06-26T21:38:59.996090Z"
    }
   },
   "cell_type": "code",
   "source": [
    "# Define the preprocessing and model pipeline\n",
    "ridge_model = Pipeline(steps=[\n",
    "    ('preprocessor', preprocessor),  # Preprocess the data (e.g., scaling, encoding)\n",
    "    ('regressor', Ridge())  # Apply Ridge Regression\n",
    "])\n",
    "\n",
    "# Train the model on the training data\n",
    "ridge_model.fit(X_train, y_train)\n",
    "\n",
    "# Predict the target values for the test set\n",
    "y_pred_ridge = ridge_model.predict(X_test)\n",
    "\n",
    "# Evaluate the model performance using Mean Squared Error (MSE), Root Mean Squared Error (RMSE), and R^2 score\n",
    "mse_ridge = mean_squared_error(y_test, y_pred_ridge)  # Calculate MSE\n",
    "rmse_ridge = np.sqrt(mse_ridge)  # Calculate RMSE from MSE\n",
    "r2_ridge = r2_score(y_test, y_pred_ridge)  # Calculate R^2 score\n",
    "\n",
    "# Print the evaluation metrics\n",
    "print(f'Ridge Regression: MSE={mse_ridge}, RMSE={rmse_ridge}, R^2={r2_ridge}')\n"
   ],
   "outputs": [
    {
     "name": "stdout",
     "output_type": "stream",
     "text": [
      "Ridge Regression: MSE=54389545.92470252, RMSE=7374.926841989859, R^2=0.5839479092709907\n"
     ]
    }
   ],
   "execution_count": 106
  },
  {
   "metadata": {
    "ExecuteTime": {
     "end_time": "2024-06-26T21:43:07.151050Z",
     "start_time": "2024-06-26T21:39:03.455035Z"
    }
   },
   "cell_type": "code",
   "source": [
    "# Define the preprocessing and model pipeline\n",
    "lgb_model = Pipeline(steps=[\n",
    "    ('preprocessor', preprocessor),  # Preprocess the data (e.g., scaling, encoding)\n",
    "    ('regressor', LGBMRegressor(random_state=42))  # Apply LightGBM Regressor\n",
    "])\n",
    "\n",
    "# Define the parameter grid for RandomizedSearchCV\n",
    "param_dist_lgb = {\n",
    "    'regressor__n_estimators': [100, 200, 300],  # Number of boosting iterations\n",
    "    'regressor__max_depth': [3, 6, 9],  # Maximum tree depth for base learners\n",
    "    'regressor__learning_rate': [0.01, 0.1, 0.2],  # Learning rate\n",
    "    'regressor__subsample': [0.6, 0.8, 1.0],  # Subsample ratio of the training instance\n",
    "    'regressor__colsample_bytree': [0.6, 0.8, 1.0]  # Subsample ratio of columns when constructing each tree\n",
    "}\n",
    "\n",
    "# Perform randomized search for hyperparameter tuning\n",
    "random_search_lgb = RandomizedSearchCV(\n",
    "    lgb_model,  # Model pipeline\n",
    "    param_dist_lgb,  # Parameter grid\n",
    "    n_iter=20,  # Number of parameter settings sampled\n",
    "    cv=3,  # Number of cross-validation folds\n",
    "    scoring='neg_mean_squared_error',  # Scoring metric\n",
    "    n_jobs=-1,  # Use all available cores\n",
    "    random_state=42  # Random state for reproducibility\n",
    ")\n",
    "random_search_lgb.fit(X_train, y_train)  # Fit the model on the training data\n",
    "\n",
    "# Best parameters and performance from the randomized search\n",
    "best_params_lgb = random_search_lgb.best_params_  # Best parameters found\n",
    "best_model_lgb = random_search_lgb.best_estimator_  # Best model with tuned parameters\n",
    "\n",
    "# Predict on the test set using the best model\n",
    "y_pred_best_lgb = best_model_lgb.predict(X_test)\n",
    "\n",
    "# Evaluate the model performance using Mean Squared Error (MSE), Root Mean Squared Error (RMSE), and R^2 score\n",
    "mse_best_lgb = mean_squared_error(y_test, y_pred_best_lgb)  # Calculate MSE\n",
    "rmse_best_lgb = np.sqrt(mse_best_lgb)  # Calculate RMSE from MSE\n",
    "r2_best_lgb = r2_score(y_test, y_pred_best_lgb)  # Calculate R^2 score\n",
    "\n",
    "# Print the evaluation metrics and best parameters\n",
    "print(f'Best Model (LightGBM): MSE={mse_best_lgb}, RMSE={rmse_best_lgb}, R^2={r2_best_lgb}')\n",
    "print(f'Best Parameters: {best_params_lgb}')\n",
    "\n",
    "# Define the preprocessing and model pipeline for XGBoost\n",
    "# 'preprocessor' is assumed to be defined elsewhere, handling necessary preprocessing steps\n",
    "xgb_model = Pipeline(steps=[\n",
    "    ('preprocessor', preprocessor),  # Preprocess the data (e.g., scaling, encoding)\n",
    "    ('regressor', XGBRegressor(objective='reg:squarederror', n_jobs=-1, random_state=42))  # Apply XGBoost Regressor\n",
    "])\n",
    "\n",
    "# Define the parameter grid for RandomizedSearchCV\n",
    "param_dist_xgb = {\n",
    "    'regressor__n_estimators': [100, 200, 300],  # Number of boosting iterations\n",
    "    'regressor__max_depth': [3, 6, 9],  # Maximum tree depth for base learners\n",
    "    'regressor__learning_rate': [0.01, 0.1, 0.2],  # Learning rate\n",
    "    'regressor__subsample': [0.6, 0.8, 1.0],  # Subsample ratio of the training instance\n",
    "    'regressor__colsample_bytree': [0.6, 0.8, 1.0]  # Subsample ratio of columns when constructing each tree\n",
    "}\n",
    "\n",
    "# Perform randomized search for hyperparameter tuning\n",
    "random_search_xgb = RandomizedSearchCV(\n",
    "    xgb_model,  # Model pipeline\n",
    "    param_dist_xgb,  # Parameter grid\n",
    "    n_iter=20,  # Number of parameter settings sampled\n",
    "    cv=3,  # Number of cross-validation folds\n",
    "    scoring='neg_mean_squared_error',  # Scoring metric\n",
    "    n_jobs=-1,  # Use all available cores\n",
    "    random_state=42  # Random state for reproducibility\n",
    ")\n",
    "random_search_xgb.fit(X_train, y_train)  # Fit the model on the training data\n",
    "\n",
    "# Best parameters and performance from the randomized search\n",
    "best_params_xgb = random_search_xgb.best_params_  # Best parameters found\n",
    "best_model_xgb = random_search_xgb.best_estimator_  # Best model with tuned parameters\n",
    "\n",
    "# Predict on the test set using the best model\n",
    "y_pred_best_xgb = best_model_xgb.predict(X_test)\n",
    "\n",
    "# Evaluate the model performance using Mean Squared Error (MSE), Root Mean Squared Error (RMSE), and R^2 score\n",
    "mse_best_xgb = mean_squared_error(y_test, y_pred_best_xgb)  # Calculate MSE\n",
    "rmse_best_xgb = np.sqrt(mse_best_xgb)  # Calculate RMSE from MSE\n",
    "r2_best_xgb = r2_score(y_test, y_pred_best_xgb)  # Calculate R^2 score\n",
    "\n",
    "# Print the evaluation metrics and best parameters\n",
    "print(f'Best Model (XGBoost): MSE={mse_best_xgb}, RMSE={rmse_best_xgb}, R^2={r2_best_xgb}')\n",
    "print(f'Best Parameters: {best_params_xgb}')"
   ],
   "outputs": [
    {
     "name": "stdout",
     "output_type": "stream",
     "text": [
      "[LightGBM] [Info] Auto-choosing row-wise multi-threading, the overhead of testing was 0.006154 seconds.\n",
      "You can set `force_row_wise=true` to remove the overhead.\n",
      "And if memory is not enough, you can set `force_col_wise=true`.\n",
      "[LightGBM] [Info] Total Bins 3478\n",
      "[LightGBM] [Info] Number of data points in the train set: 204571, number of used features: 1561\n",
      "[LightGBM] [Info] Start training from score 15582.674392\n",
      "[LightGBM] [Warning] No further splits with positive gain, best gain: -inf\n",
      "[LightGBM] [Warning] No further splits with positive gain, best gain: -inf\n",
      "[LightGBM] [Warning] No further splits with positive gain, best gain: -inf\n",
      "[LightGBM] [Warning] No further splits with positive gain, best gain: -inf\n",
      "[LightGBM] [Warning] No further splits with positive gain, best gain: -inf\n",
      "[LightGBM] [Warning] No further splits with positive gain, best gain: -inf\n",
      "[LightGBM] [Warning] No further splits with positive gain, best gain: -inf\n",
      "[LightGBM] [Warning] No further splits with positive gain, best gain: -inf\n",
      "[LightGBM] [Warning] No further splits with positive gain, best gain: -inf\n",
      "[LightGBM] [Warning] No further splits with positive gain, best gain: -inf\n",
      "[LightGBM] [Warning] No further splits with positive gain, best gain: -inf\n",
      "[LightGBM] [Warning] No further splits with positive gain, best gain: -inf\n",
      "[LightGBM] [Warning] No further splits with positive gain, best gain: -inf\n",
      "[LightGBM] [Warning] No further splits with positive gain, best gain: -inf\n",
      "[LightGBM] [Warning] No further splits with positive gain, best gain: -inf\n",
      "[LightGBM] [Warning] No further splits with positive gain, best gain: -inf\n",
      "[LightGBM] [Warning] No further splits with positive gain, best gain: -inf\n",
      "[LightGBM] [Warning] No further splits with positive gain, best gain: -inf\n",
      "[LightGBM] [Warning] No further splits with positive gain, best gain: -inf\n",
      "[LightGBM] [Warning] No further splits with positive gain, best gain: -inf\n",
      "[LightGBM] [Warning] No further splits with positive gain, best gain: -inf\n",
      "[LightGBM] [Warning] No further splits with positive gain, best gain: -inf\n",
      "[LightGBM] [Warning] No further splits with positive gain, best gain: -inf\n",
      "[LightGBM] [Warning] No further splits with positive gain, best gain: -inf\n",
      "[LightGBM] [Warning] No further splits with positive gain, best gain: -inf\n",
      "[LightGBM] [Warning] No further splits with positive gain, best gain: -inf\n",
      "[LightGBM] [Warning] No further splits with positive gain, best gain: -inf\n",
      "[LightGBM] [Warning] No further splits with positive gain, best gain: -inf\n",
      "[LightGBM] [Warning] No further splits with positive gain, best gain: -inf\n",
      "[LightGBM] [Warning] No further splits with positive gain, best gain: -inf\n",
      "[LightGBM] [Warning] No further splits with positive gain, best gain: -inf\n",
      "[LightGBM] [Warning] No further splits with positive gain, best gain: -inf\n",
      "[LightGBM] [Warning] No further splits with positive gain, best gain: -inf\n",
      "[LightGBM] [Warning] No further splits with positive gain, best gain: -inf\n",
      "[LightGBM] [Warning] No further splits with positive gain, best gain: -inf\n",
      "[LightGBM] [Warning] No further splits with positive gain, best gain: -inf\n",
      "[LightGBM] [Warning] No further splits with positive gain, best gain: -inf\n",
      "[LightGBM] [Warning] No further splits with positive gain, best gain: -inf\n",
      "[LightGBM] [Warning] No further splits with positive gain, best gain: -inf\n",
      "[LightGBM] [Warning] No further splits with positive gain, best gain: -inf\n",
      "[LightGBM] [Warning] No further splits with positive gain, best gain: -inf\n",
      "[LightGBM] [Warning] No further splits with positive gain, best gain: -inf\n",
      "[LightGBM] [Warning] No further splits with positive gain, best gain: -inf\n",
      "[LightGBM] [Warning] No further splits with positive gain, best gain: -inf\n",
      "[LightGBM] [Warning] No further splits with positive gain, best gain: -inf\n",
      "[LightGBM] [Warning] No further splits with positive gain, best gain: -inf\n",
      "[LightGBM] [Warning] No further splits with positive gain, best gain: -inf\n",
      "[LightGBM] [Warning] No further splits with positive gain, best gain: -inf\n",
      "[LightGBM] [Warning] No further splits with positive gain, best gain: -inf\n",
      "[LightGBM] [Warning] No further splits with positive gain, best gain: -inf\n",
      "[LightGBM] [Warning] No further splits with positive gain, best gain: -inf\n",
      "[LightGBM] [Warning] No further splits with positive gain, best gain: -inf\n",
      "[LightGBM] [Warning] No further splits with positive gain, best gain: -inf\n",
      "[LightGBM] [Warning] No further splits with positive gain, best gain: -inf\n",
      "[LightGBM] [Warning] No further splits with positive gain, best gain: -inf\n",
      "[LightGBM] [Warning] No further splits with positive gain, best gain: -inf\n",
      "[LightGBM] [Warning] No further splits with positive gain, best gain: -inf\n",
      "[LightGBM] [Warning] No further splits with positive gain, best gain: -inf\n",
      "[LightGBM] [Warning] No further splits with positive gain, best gain: -inf\n",
      "[LightGBM] [Warning] No further splits with positive gain, best gain: -inf\n",
      "[LightGBM] [Warning] No further splits with positive gain, best gain: -inf\n",
      "[LightGBM] [Warning] No further splits with positive gain, best gain: -inf\n",
      "[LightGBM] [Warning] No further splits with positive gain, best gain: -inf\n",
      "[LightGBM] [Warning] No further splits with positive gain, best gain: -inf\n",
      "[LightGBM] [Warning] No further splits with positive gain, best gain: -inf\n",
      "[LightGBM] [Warning] No further splits with positive gain, best gain: -inf\n",
      "[LightGBM] [Warning] No further splits with positive gain, best gain: -inf\n",
      "[LightGBM] [Warning] No further splits with positive gain, best gain: -inf\n",
      "[LightGBM] [Warning] No further splits with positive gain, best gain: -inf\n",
      "[LightGBM] [Warning] No further splits with positive gain, best gain: -inf\n",
      "[LightGBM] [Warning] No further splits with positive gain, best gain: -inf\n",
      "[LightGBM] [Warning] No further splits with positive gain, best gain: -inf\n",
      "[LightGBM] [Warning] No further splits with positive gain, best gain: -inf\n",
      "[LightGBM] [Warning] No further splits with positive gain, best gain: -inf\n",
      "[LightGBM] [Warning] No further splits with positive gain, best gain: -inf\n",
      "[LightGBM] [Warning] No further splits with positive gain, best gain: -inf\n",
      "[LightGBM] [Warning] No further splits with positive gain, best gain: -inf\n",
      "[LightGBM] [Warning] No further splits with positive gain, best gain: -inf\n",
      "[LightGBM] [Warning] No further splits with positive gain, best gain: -inf\n",
      "[LightGBM] [Warning] No further splits with positive gain, best gain: -inf\n",
      "[LightGBM] [Warning] No further splits with positive gain, best gain: -inf\n",
      "[LightGBM] [Warning] No further splits with positive gain, best gain: -inf\n",
      "[LightGBM] [Warning] No further splits with positive gain, best gain: -inf\n",
      "[LightGBM] [Warning] No further splits with positive gain, best gain: -inf\n",
      "[LightGBM] [Warning] No further splits with positive gain, best gain: -inf\n",
      "[LightGBM] [Warning] No further splits with positive gain, best gain: -inf\n",
      "[LightGBM] [Warning] No further splits with positive gain, best gain: -inf\n",
      "[LightGBM] [Warning] No further splits with positive gain, best gain: -inf\n",
      "[LightGBM] [Warning] No further splits with positive gain, best gain: -inf\n",
      "[LightGBM] [Warning] No further splits with positive gain, best gain: -inf\n",
      "[LightGBM] [Warning] No further splits with positive gain, best gain: -inf\n",
      "[LightGBM] [Warning] No further splits with positive gain, best gain: -inf\n",
      "[LightGBM] [Warning] No further splits with positive gain, best gain: -inf\n",
      "[LightGBM] [Warning] No further splits with positive gain, best gain: -inf\n",
      "[LightGBM] [Warning] No further splits with positive gain, best gain: -inf\n",
      "[LightGBM] [Warning] No further splits with positive gain, best gain: -inf\n",
      "[LightGBM] [Warning] No further splits with positive gain, best gain: -inf\n",
      "[LightGBM] [Warning] No further splits with positive gain, best gain: -inf\n",
      "[LightGBM] [Warning] No further splits with positive gain, best gain: -inf\n",
      "[LightGBM] [Warning] No further splits with positive gain, best gain: -inf\n",
      "[LightGBM] [Warning] No further splits with positive gain, best gain: -inf\n",
      "[LightGBM] [Warning] No further splits with positive gain, best gain: -inf\n",
      "[LightGBM] [Warning] No further splits with positive gain, best gain: -inf\n",
      "[LightGBM] [Warning] No further splits with positive gain, best gain: -inf\n",
      "[LightGBM] [Warning] No further splits with positive gain, best gain: -inf\n",
      "[LightGBM] [Warning] No further splits with positive gain, best gain: -inf\n",
      "[LightGBM] [Warning] No further splits with positive gain, best gain: -inf\n",
      "[LightGBM] [Warning] No further splits with positive gain, best gain: -inf\n",
      "[LightGBM] [Warning] No further splits with positive gain, best gain: -inf\n",
      "[LightGBM] [Warning] No further splits with positive gain, best gain: -inf\n",
      "[LightGBM] [Warning] No further splits with positive gain, best gain: -inf\n",
      "[LightGBM] [Warning] No further splits with positive gain, best gain: -inf\n",
      "[LightGBM] [Warning] No further splits with positive gain, best gain: -inf\n",
      "[LightGBM] [Warning] No further splits with positive gain, best gain: -inf\n",
      "[LightGBM] [Warning] No further splits with positive gain, best gain: -inf\n",
      "[LightGBM] [Warning] No further splits with positive gain, best gain: -inf\n",
      "[LightGBM] [Warning] No further splits with positive gain, best gain: -inf\n",
      "[LightGBM] [Warning] No further splits with positive gain, best gain: -inf\n",
      "[LightGBM] [Warning] No further splits with positive gain, best gain: -inf\n",
      "[LightGBM] [Warning] No further splits with positive gain, best gain: -inf\n",
      "[LightGBM] [Warning] No further splits with positive gain, best gain: -inf\n",
      "[LightGBM] [Warning] No further splits with positive gain, best gain: -inf\n",
      "[LightGBM] [Warning] No further splits with positive gain, best gain: -inf\n",
      "[LightGBM] [Warning] No further splits with positive gain, best gain: -inf\n",
      "[LightGBM] [Warning] No further splits with positive gain, best gain: -inf\n",
      "[LightGBM] [Warning] No further splits with positive gain, best gain: -inf\n",
      "[LightGBM] [Warning] No further splits with positive gain, best gain: -inf\n",
      "[LightGBM] [Warning] No further splits with positive gain, best gain: -inf\n",
      "[LightGBM] [Warning] No further splits with positive gain, best gain: -inf\n",
      "[LightGBM] [Warning] No further splits with positive gain, best gain: -inf\n",
      "[LightGBM] [Warning] No further splits with positive gain, best gain: -inf\n",
      "Best Model (LightGBM): MSE=39556568.81277436, RMSE=6289.401307976329, R^2=0.6974125656536135\n",
      "Best Parameters: {'regressor__subsample': 1.0, 'regressor__n_estimators': 300, 'regressor__max_depth': 9, 'regressor__learning_rate': 0.2, 'regressor__colsample_bytree': 0.8}\n",
      "Best Model (XGBoost): MSE=35722427.75689754, RMSE=5976.824220009949, R^2=0.7267417907714844\n",
      "Best Parameters: {'regressor__subsample': 0.8, 'regressor__n_estimators': 200, 'regressor__max_depth': 9, 'regressor__learning_rate': 0.2, 'regressor__colsample_bytree': 1.0}\n"
     ]
    }
   ],
   "execution_count": 107
  },
  {
   "metadata": {
    "ExecuteTime": {
     "end_time": "2024-06-26T21:46:01.037431Z",
     "start_time": "2024-06-26T21:43:07.154585Z"
    }
   },
   "cell_type": "code",
   "source": [
    "# Define the preprocessing and model pipeline\n",
    "xgb_model = Pipeline(steps=[\n",
    "    ('preprocessor', preprocessor),  # Preprocess the data (e.g., scaling, encoding)\n",
    "    ('regressor', XGBRegressor(objective='reg:squarederror', n_jobs=-1, random_state=42))  # Apply XGBoost Regressor\n",
    "])\n",
    "\n",
    "# Define the parameter grid for RandomizedSearchCV\n",
    "param_dist_xgb = {\n",
    "    'regressor__n_estimators': [100, 200, 300],  # Number of boosting iterations\n",
    "    'regressor__max_depth': [3, 6, 9],  # Maximum tree depth for base learners\n",
    "    'regressor__learning_rate': [0.01, 0.1, 0.2],  # Learning rate\n",
    "    'regressor__subsample': [0.6, 0.8, 1.0],  # Subsample ratio of the training instance\n",
    "    'regressor__colsample_bytree': [0.6, 0.8, 1.0]  # Subsample ratio of columns when constructing each tree\n",
    "}\n",
    "\n",
    "# Perform randomized search for hyperparameter tuning\n",
    "random_search_xgb = RandomizedSearchCV(\n",
    "    xgb_model,  # Model pipeline\n",
    "    param_dist_xgb,  # Parameter grid\n",
    "    n_iter=20,  # Number of parameter settings sampled\n",
    "    cv=3,  # Number of cross-validation folds\n",
    "    scoring='neg_mean_squared_error',  # Scoring metric\n",
    "    n_jobs=-1,  # Use all available cores\n",
    "    random_state=42  # Random state for reproducibility\n",
    ")\n",
    "random_search_xgb.fit(X_train, y_train)  # Fit the model on the training data\n",
    "\n",
    "# Best parameters and performance from the randomized search\n",
    "best_params_xgb = random_search_xgb.best_params_  # Best parameters found\n",
    "best_model_xgb = random_search_xgb.best_estimator_  # Best model with tuned parameters\n",
    "\n",
    "# Predict on the test set using the best model\n",
    "y_pred_best_xgb = best_model_xgb.predict(X_test)\n",
    "\n",
    "# Evaluate the model performance using Mean Squared Error (MSE), Root Mean Squared Error (RMSE), and R^2 score\n",
    "mse_best_xgb = mean_squared_error(y_test, y_pred_best_xgb)  # Calculate MSE\n",
    "rmse_best_xgb = np.sqrt(mse_best_xgb)  # Calculate RMSE from MSE\n",
    "r2_best_xgb = r2_score(y_test, y_pred_best_xgb)  # Calculate R^2 score\n",
    "\n",
    "# Print the evaluation metrics and best parameters\n",
    "print(f'Best Model (XGBoost): MSE={mse_best_xgb}, RMSE={rmse_best_xgb}, R^2={r2_best_xgb}')\n",
    "print(f'Best Parameters: {best_params_xgb}')\n"
   ],
   "outputs": [
    {
     "name": "stdout",
     "output_type": "stream",
     "text": [
      "Best Model (XGBoost): MSE=35722427.75689754, RMSE=5976.824220009949, R^2=0.7267417907714844\n",
      "Best Parameters: {'regressor__subsample': 0.8, 'regressor__n_estimators': 200, 'regressor__max_depth': 9, 'regressor__learning_rate': 0.2, 'regressor__colsample_bytree': 1.0}\n"
     ]
    }
   ],
   "execution_count": 108
  },
  {
   "metadata": {
    "ExecuteTime": {
     "end_time": "2024-06-26T21:46:09.829047Z",
     "start_time": "2024-06-26T21:46:01.039440Z"
    }
   },
   "cell_type": "code",
   "source": [
    "# Define the model with the best parameters found\n",
    "best_xgb_model = Pipeline(steps=[\n",
    "    ('preprocessor', preprocessor),\n",
    "    ('regressor', XGBRegressor(\n",
    "        subsample=0.8,\n",
    "        n_estimators=200,\n",
    "        max_depth=9,\n",
    "        learning_rate=0.2,\n",
    "        colsample_bytree=1.0,\n",
    "        objective='reg:squarederror',\n",
    "        random_state=42\n",
    "    ))\n",
    "])\n",
    "\n",
    "# Train the model on the full training dataset\n",
    "best_xgb_model.fit(X_train, y_train)\n",
    "\n",
    "# Predict on the test set\n",
    "y_pred_best_xgb = best_xgb_model.predict(X_test)\n",
    "\n",
    "# Evaluate the model\n",
    "mse_best_xgb = mean_squared_error(y_test, y_pred_best_xgb)\n",
    "rmse_best_xgb = np.sqrt(mse_best_xgb)\n",
    "r2_best_xgb = r2_score(y_test, y_pred_best_xgb)\n",
    "\n",
    "print(f'Final Model (XGBoost): MSE={mse_best_xgb}, RMSE={rmse_best_xgb}, R^2={r2_best_xgb}')\n"
   ],
   "outputs": [
    {
     "name": "stdout",
     "output_type": "stream",
     "text": [
      "Final Model (XGBoost): MSE=35722427.75689754, RMSE=5976.824220009949, R^2=0.7267417907714844\n"
     ]
    }
   ],
   "execution_count": 109
  },
  {
   "metadata": {
    "ExecuteTime": {
     "end_time": "2024-06-26T21:46:55.913934Z",
     "start_time": "2024-06-26T21:46:09.833058Z"
    }
   },
   "cell_type": "code",
   "source": [
    "# Define the model\n",
    "dt_model = Pipeline(steps=[\n",
    "    ('preprocessor', preprocessor),\n",
    "    ('regressor', DecisionTreeRegressor(random_state=42))\n",
    "])\n",
    "\n",
    "# Define a refined parameter grid for HalvingRandomSearchCV\n",
    "param_dist_dt = {\n",
    "    'regressor__max_depth': [25, 30, 35],  # Narrowed around previous best value\n",
    "    'regressor__min_samples_split': [3, 5, 7],  # More granular values\n",
    "    'regressor__min_samples_leaf': [3, 4, 5, 6],  # Expanded range for more exploration\n",
    "}\n",
    "\n",
    "# Perform halving random search\n",
    "halving_random_search_dt = HalvingRandomSearchCV(\n",
    "    dt_model,\n",
    "    param_dist_dt,\n",
    "    factor=2,  # Control the number of candidates retained at each iteration\n",
    "    cv=3,  # Increase cross-validation folds for better accuracy\n",
    "    scoring='neg_mean_squared_error',\n",
    "    n_jobs=-1,\n",
    "    random_state=42\n",
    ")\n",
    "halving_random_search_dt.fit(X_train, y_train)\n",
    "\n",
    "# Best parameters and performance\n",
    "best_params_dt = halving_random_search_dt.best_params_\n",
    "best_model_dt = halving_random_search_dt.best_estimator_\n",
    "\n",
    "# Predict on the test set\n",
    "y_pred_best_dt = best_model_dt.predict(X_test)\n",
    "\n",
    "# Evaluate the model\n",
    "mse_best_dt = mean_squared_error(y_test, y_pred_best_dt)\n",
    "rmse_best_dt = np.sqrt(mse_best_dt)\n",
    "r2_best_dt = r2_score(y_test, y_pred_best_dt)\n",
    "\n",
    "print(f'Best Model (Decision Tree): MSE={mse_best_dt}, RMSE={rmse_best_dt}, R^2={r2_best_dt}')\n",
    "print(f'Best Parameters: {best_params_dt}')\n"
   ],
   "outputs": [
    {
     "name": "stderr",
     "output_type": "stream",
     "text": [
      "C:\\CoDE\\workspace-idea\\everything\\venv\\Lib\\site-packages\\sklearn\\model_selection\\_search.py:320: UserWarning: The total space of parameters 36 is smaller than n_iter=34095. Running 36 iterations. For exhaustive searches, use GridSearchCV.\n",
      "  warnings.warn(\n"
     ]
    },
    {
     "name": "stdout",
     "output_type": "stream",
     "text": [
      "Best Model (Decision Tree): MSE=37268210.97935286, RMSE=6104.769527128184, R^2=0.7149173277314067\n",
      "Best Parameters: {'regressor__min_samples_split': 5, 'regressor__min_samples_leaf': 6, 'regressor__max_depth': 25}\n"
     ]
    }
   ],
   "execution_count": 110
  },
  {
   "metadata": {
    "ExecuteTime": {
     "end_time": "2024-06-26T21:47:24.866246Z",
     "start_time": "2024-06-26T21:46:55.914941Z"
    }
   },
   "cell_type": "code",
   "source": [
    "# Define the model with the best parameters found\n",
    "best_dt_model = Pipeline(steps=[\n",
    "    ('preprocessor', preprocessor),\n",
    "    ('regressor', DecisionTreeRegressor(\n",
    "        random_state=42,\n",
    "        min_samples_split=10,\n",
    "        min_samples_leaf=4,\n",
    "        max_depth=30\n",
    "    ))\n",
    "])\n",
    "\n",
    "# Train the model on the full training dataset\n",
    "best_dt_model.fit(X_train, y_train)\n",
    "\n",
    "# Predict on the test set\n",
    "y_pred_best_dt = best_dt_model.predict(X_test)\n",
    "\n",
    "# Evaluate the model\n",
    "mse_best_dt = mean_squared_error(y_test, y_pred_best_dt)\n",
    "rmse_best_dt = np.sqrt(mse_best_dt)\n",
    "r2_best_dt = r2_score(y_test, y_pred_best_dt)\n",
    "\n",
    "print(f'Final Model (Decision Tree): MSE={mse_best_dt}, RMSE={rmse_best_dt}, R^2={r2_best_dt}')"
   ],
   "outputs": [
    {
     "name": "stdout",
     "output_type": "stream",
     "text": [
      "Final Model (Decision Tree): MSE=35701145.422413945, RMSE=5975.0435498340885, R^2=0.7269045743647295\n"
     ]
    }
   ],
   "execution_count": 111
  },
  {
   "metadata": {
    "ExecuteTime": {
     "end_time": "2024-06-26T21:49:43.358430Z",
     "start_time": "2024-06-26T21:47:24.867251Z"
    }
   },
   "cell_type": "code",
   "source": [
    "# Define the model pipeline\n",
    "bagging_model = Pipeline(steps=[\n",
    "    ('preprocessor', preprocessor),\n",
    "    ('regressor', BaggingRegressor(\n",
    "        estimator=DecisionTreeRegressor(random_state=42),\n",
    "        n_estimators=10,  # Number of base estimators\n",
    "        random_state=42,\n",
    "        n_jobs=-1\n",
    "    ))\n",
    "])\n",
    "\n",
    "# Train the Bagging model\n",
    "bagging_model.fit(X_train, y_train)\n",
    "\n",
    "# Predict on the test set\n",
    "y_pred_bagging = bagging_model.predict(X_test)\n",
    "\n",
    "# Evaluate the model\n",
    "mse_bagging = mean_squared_error(y_test, y_pred_bagging)\n",
    "rmse_bagging = np.sqrt(mse_bagging)\n",
    "r2_bagging = r2_score(y_test, y_pred_bagging)\n",
    "\n",
    "print(f'Bagging Model (Decision Tree): MSE={mse_bagging}, RMSE={rmse_bagging}, R^2={r2_bagging}')"
   ],
   "outputs": [
    {
     "name": "stdout",
     "output_type": "stream",
     "text": [
      "Bagging Model (Decision Tree): MSE=23776708.82092561, RMSE=4876.1366696315645, R^2=0.8181203897290106\n"
     ]
    }
   ],
   "execution_count": 112
  },
  {
   "metadata": {
    "ExecuteTime": {
     "end_time": "2024-06-26T21:49:44.171893Z",
     "start_time": "2024-06-26T21:49:43.360190Z"
    }
   },
   "cell_type": "code",
   "source": [
    "# Define the baseline model\n",
    "baseline_model = Pipeline(steps=[\n",
    "    ('preprocessor', preprocessor),  # Preprocessing step\n",
    "    ('regressor', DummyRegressor(strategy='mean'))\n",
    "])\n",
    "\n",
    "# Train the baseline model\n",
    "baseline_model.fit(X_train, y_train)\n",
    "\n",
    "# Predict on the test set\n",
    "y_pred_baseline = baseline_model.predict(X_test)\n",
    "\n",
    "# Evaluate the baseline model\n",
    "mse_baseline = mean_squared_error(y_test, y_pred_baseline)\n",
    "rmse_baseline = np.sqrt(mse_baseline)\n",
    "r2_baseline = r2_score(y_test, y_pred_baseline)\n",
    "\n",
    "print(f'Baseline Model: MSE={mse_baseline}, RMSE={rmse_baseline}, R²={r2_baseline}')"
   ],
   "outputs": [
    {
     "name": "stdout",
     "output_type": "stream",
     "text": [
      "Baseline Model: MSE=130734324.60864696, RMSE=11433.911168478044, R²=-5.043540488114395e-05\n"
     ]
    }
   ],
   "execution_count": 113
  },
  {
   "cell_type": "markdown",
   "metadata": {},
   "source": [
    "### Evaluation\n",
    "\n",
    "With some modeling accomplished, we aim to reflect on what we identify as a high quality model and what we are able to learn from this.  We should review our business objective and explore how well we can provide meaningful insight on drivers of used car prices.  Your goal now is to distill your findings and determine whether the earlier phases need revisitation and adjustment or if you have information of value to bring back to your client."
   ]
  },
  {
   "metadata": {},
   "cell_type": "markdown",
   "source": [
    "### Evaluation of Bagging Model\n",
    "\n",
    "#### Model Performance Metrics\n",
    "\n",
    "Based on the bagging model (using a decision tree), the performance metrics are as follows:\n",
    "\n",
    "* MSE (Mean Squared Error): 23,776,708.82\n",
    "* RMSE (Root Mean Squared Error): 4,876.14\n",
    "* R² (R-squared): 0.818\n",
    "\n",
    "These metrics indicate that the model explains approximately 81.8% of the variance in used car prices, which suggests a reasonably good fit.\n",
    "\n",
    "#### Baseline Model Comparison\n",
    "\n",
    "To evaluate the performance of the bagging model, it is essential to compare it with a baseline model. The baseline model uses a simple strategy, such as predicting the mean price for all cars. Here are the baseline model's performance metrics:\n",
    "\n",
    "* MSE (Mean Squared Error): 130,734,324.61\n",
    "* RMSE (Root Mean Squared Error): 11,433.91\n",
    "* R² (R-squared): -0.00005\n",
    "\n",
    "These baseline metrics indicate a very poor fit, as expected, and the R² value being close to zero confirms that the baseline model does not explain the variance in car prices."
   ]
  },
  {
   "cell_type": "code",
   "metadata": {
    "ExecuteTime": {
     "end_time": "2024-06-26T22:07:09.469389Z",
     "start_time": "2024-06-26T22:07:09.466102Z"
    }
   },
   "source": [
    "import numpy as np\n",
    "import pandas as pd\n",
    "import matplotlib.pyplot as plt\n",
    "import seaborn as sns"
   ],
   "outputs": [],
   "execution_count": 118
  },
  {
   "metadata": {},
   "cell_type": "markdown",
   "source": "### Feature Importance"
  },
  {
   "cell_type": "code",
   "metadata": {
    "ExecuteTime": {
     "end_time": "2024-06-26T22:58:09.047013Z",
     "start_time": "2024-06-26T22:58:08.763890Z"
    }
   },
   "source": [
    "\n",
    "# Extract feature importances from the Bagging Regressor\n",
    "feature_importances = np.mean([\n",
    "    tree.feature_importances_ for tree in bagging_model.named_steps['regressor'].estimators_\n",
    "], axis=0)\n",
    "\n",
    "# Get the feature names\n",
    "feature_names = bagging_model.named_steps['preprocessor'].get_feature_names_out()\n",
    "\n",
    "# Sanitize feature names by replacing special characters\n",
    "sanitized_feature_names = [name.replace('$', '').replace('%', '').replace('&', 'and') for name in feature_names]\n",
    "\n",
    "# Create a DataFrame for feature importances\n",
    "feature_importance_df = pd.DataFrame({\n",
    "    'Feature': sanitized_feature_names,\n",
    "    'Importance': feature_importances\n",
    "}).sort_values(by='Importance', ascending=False)\n",
    "\n",
    "# Select the top N most important features\n",
    "N = 20\n",
    "top_features_df = feature_importance_df.head(N)\n",
    "\n",
    "# Plot the top N feature importances\n",
    "plt.figure(figsize=(12, 8))\n",
    "plt.barh(top_features_df['Feature'], top_features_df['Importance'])\n",
    "plt.xlabel('Importance')\n",
    "plt.ylabel('Feature')\n",
    "plt.title('Top 20 Feature Important Features Driving Price')\n",
    "plt.gca().invert_yaxis()\n",
    "plt.show()\n"
   ],
   "outputs": [
    {
     "data": {
      "text/plain": [
       "<Figure size 1200x800 with 1 Axes>"
      ],
      "image/png": "[encoded data removed]"
     },
     "metadata": {},
     "output_type": "display_data"
    }
   ],
   "execution_count": 126
  },
  {
   "metadata": {},
   "cell_type": "markdown",
   "source": [
    "##  Geographic Influence\n",
    "\n",
    "The box plots illustrate the predicted prices of used cars across different states and regions. These visualizations help identify how geographic factors influence car prices, which can provide actionable insights for inventory management and pricing strategies.\n",
    "\n",
    "#### Key Findings:\n",
    "The first plot shows the predicted prices of used cars across the top 20 states:\n",
    "\n",
    "##### Variation Across States:\n",
    "\n",
    "There is noticeable variation in predicted car prices across different states.\n",
    "States like CA, FL, and NY show higher median prices, indicating that cars tend to be priced higher in these states.\n",
    "Conversely, states like NC, TN, and PA show lower median prices, suggesting more affordable car markets.\n",
    "\n",
    "###### Interquartile Range (IQR) and Outliers:\n",
    "\n",
    "The length of the boxes represents the IQR, showing the middle 50% of the data.\n",
    "States with longer boxes, like TX and OH, indicate a wider range of car prices.\n",
    "States with numerous outliers, such as NY and CA, suggest that there are occasional extremely high car prices, possibly due to luxury or high-demand models.\n",
    "Predicted Prices by Region\n",
    "The second plot shows the predicted prices of used cars across the top 20 regions:\n",
    "\n",
    "##### Regional Differences:\n",
    "\n",
    "Regions like New York City, Las Vegas, and Houston have higher median prices, reflecting higher market values in these areas.\n",
    "Regions such as Stockton and Cleveland show lower median prices, indicating more affordable car markets.\n",
    "\n",
    "###### Spread and Outliers:\n",
    "\n",
    "Similar to the state-level analysis, regions with a larger spread in the boxes, such as Philadelphia and Boston, indicate diverse pricing within those markets.\n",
    "The presence of outliers in regions like New York City and Washington, DC suggests occasional high-value car sales."
   ]
  },
  {
   "cell_type": "code",
   "metadata": {},
   "source": [
    "# Assuming 'region' and 'state' are the columns for geographic data\n",
    "region_column = 'region'  # Replace with actual region column name\n",
    "state_column = 'state'    # Replace with actual state column name\n",
    "\n",
    "# Combine geographic columns with the training and test datasets\n",
    "X_train_geo = pd.concat([X_train, vehicles_df[[region_column, state_column]].loc[X_train.index]], axis=1)\n",
    "X_test_geo = pd.concat([X_test, vehicles_df[[region_column, state_column]].loc[X_test.index]], axis=1)\n",
    "\n",
    "# Define numerical and categorical features\n",
    "numerical_features = X_train_geo.select_dtypes(include=['int64', 'float64']).columns.tolist()\n",
    "categorical_features = X_train_geo.select_dtypes(include=['object']).columns.tolist()\n",
    "categorical_features.remove(region_column)\n",
    "categorical_features.remove(state_column)\n",
    "\n",
    "# Encode categorical geographic features\n",
    "preprocessor_with_geo = ColumnTransformer(\n",
    "    transformers=[\n",
    "        ('num', StandardScaler(), numerical_features),\n",
    "        ('cat', OneHotEncoder(handle_unknown='ignore'), categorical_features + [region_column, state_column])\n",
    "    ])\n",
    "\n",
    "# Define the model pipeline with the new preprocessor\n",
    "bagging_model_geo = Pipeline(steps=[\n",
    "    ('preprocessor', preprocessor_with_geo),\n",
    "    ('regressor', BaggingRegressor(\n",
    "        estimator=DecisionTreeRegressor(\n",
    "            random_state=42,\n",
    "            max_depth=30,\n",
    "            min_samples_split=10,\n",
    "            min_samples_leaf=2\n",
    "        ),\n",
    "        n_estimators=20,\n",
    "        random_state=42,\n",
    "        n_jobs=-1\n",
    "    ))\n",
    "])\n",
    "\n",
    "# Fit the model\n",
    "bagging_model_geo.fit(X_train_geo, y_train)\n",
    "\n",
    "# Predict and evaluate the model\n",
    "y_pred_geo = bagging_model_geo.predict(X_test_geo)\n",
    "mse_geo = mean_squared_error(y_test, y_pred_geo)\n",
    "rmse_geo = np.sqrt(mse_geo)\n",
    "r2_geo = r2_score(y_test, y_pred_geo)\n",
    "\n",
    "print(f'Bagging Model with Geographic Data: MSE={mse_geo}, RMSE={rmse_geo}, R²={r2_geo}')\n",
    "\n",
    "# Analyze the impact of geography\n",
    "geography_impact_df = pd.DataFrame({\n",
    "    'Actual Price': y_test,\n",
    "    'Predicted Price': y_pred_geo,\n",
    "    'Region': vehicles_df.loc[X_test.index, region_column],\n",
    "    'State': vehicles_df.loc[X_test.index, state_column]\n",
    "})\n"
   ],
   "outputs": [],
   "execution_count": null
  },
  {
   "metadata": {
    "ExecuteTime": {
     "end_time": "2024-06-26T22:20:03.982607Z",
     "start_time": "2024-06-26T22:20:03.185791Z"
    }
   },
   "cell_type": "code",
   "source": [
    "\n",
    "# Reduce the number of categories by focusing on the top 20 regions by frequency\n",
    "top_regions = geography_impact_df['Region'].value_counts().head(20).index\n",
    "top_regions_df = geography_impact_df[geography_impact_df['Region'].isin(top_regions)]\n",
    "\n",
    "# Plot predicted prices by region for top 20 regions\n",
    "plt.figure(figsize=(12, 8))\n",
    "sns.boxplot(x='Region', y='Predicted Price', data=top_regions_df)\n",
    "plt.title('Predicted Prices by Top 20 Regions')\n",
    "plt.xticks(rotation=45)\n",
    "plt.show()\n",
    "\n",
    "# Reduce the number of categories by focusing on the top 20 states by frequency\n",
    "top_states = geography_impact_df['State'].value_counts().head(20).index\n",
    "top_states_df = geography_impact_df[geography_impact_df['State'].isin(top_states)]\n",
    "\n",
    "# Plot predicted prices by state for top 20 states\n",
    "plt.figure(figsize=(12, 8))\n",
    "sns.boxplot(x='State', y='Predicted Price', data=top_states_df)\n",
    "plt.title('Predicted Prices by Top 20 States')\n",
    "plt.xticks(rotation=45)\n",
    "plt.show()"
   ],
   "outputs": [
    {
     "data": {
      "text/plain": [
       "<Figure size 1200x800 with 1 Axes>"
      ],
      "image/png": "[encoded data removed]"
     },
     "metadata": {},
     "output_type": "display_data"
    },
    {
     "data": {
      "text/plain": [
       "<Figure size 1200x800 with 1 Axes>"
      ],
      "image/png": "[encoded data removed]"
     },
     "metadata": {},
     "output_type": "display_data"
    }
   ],
   "execution_count": 123
  },
  {
   "metadata": {},
   "cell_type": "markdown",
   "source": "### Market Demand Analysis"
  },
  {
   "cell_type": "code",
   "metadata": {
    "ExecuteTime": {
     "end_time": "2024-06-26T22:28:38.305686Z",
     "start_time": "2024-06-26T22:28:37.993184Z"
    }
   },
   "source": [
    "manufacturer_column = 'manufacturer'  # Replace with actual column name\n",
    "model_column = 'model'  # Replace with actual column name\n",
    "\n",
    "# Calculate demand and average price for each make and model\n",
    "market_demand_df = vehicles_df.groupby([manufacturer_column, model_column]).agg({\n",
    "    'price': ['mean', 'count']\n",
    "}).reset_index()\n",
    "market_demand_df.columns = [manufacturer_column, model_column, 'Average Price', 'Count']\n",
    "\n",
    "# Create a new column for combined manufacturer and model for plotting\n",
    "market_demand_df['Make and Model'] = market_demand_df[manufacturer_column] + ' ' + market_demand_df[model_column]\n",
    "\n",
    "# Sort by demand (Count) and display\n",
    "market_demand_df = market_demand_df.sort_values(by='Count', ascending=False)\n",
    "print(market_demand_df.head(10))  # Display top 10 makes and models by demand\n",
    "\n",
    "# Plot market demand\n",
    "plt.figure(figsize=(12, 8))\n",
    "sns.barplot(x='Count', y='Make and Model', data=market_demand_df.head(20))\n",
    "plt.title('Top 20 Most Demanded Makes and Models')\n",
    "plt.xlabel('Count')\n",
    "plt.ylabel('Make and Model')\n",
    "plt.show()"
   ],
   "outputs": [
    {
     "name": "stdout",
     "output_type": "stream",
     "text": [
      "      manufacturer           model  Average Price  Count  \\\n",
      "4884          ford           f-150   18388.051098   5147   \n",
      "2781     chevrolet  silverado 1500   19433.008403   3570   \n",
      "12067          ram            1500   18903.331658   2388   \n",
      "13310       toyota           camry    9033.928266   2105   \n",
      "7242         honda          accord    9160.307618   2074   \n",
      "7403         honda           civic    8893.159685   2029   \n",
      "8878          jeep        wrangler   17182.454779   1946   \n",
      "4598          ford          escape   10802.312597   1929   \n",
      "13954       toyota          tacoma   20155.521353   1803   \n",
      "2777     chevrolet       silverado   15750.544009   1761   \n",
      "\n",
      "                 Make and Model  \n",
      "4884                 ford f-150  \n",
      "2781   chevrolet silverado 1500  \n",
      "12067                  ram 1500  \n",
      "13310              toyota camry  \n",
      "7242               honda accord  \n",
      "7403                honda civic  \n",
      "8878              jeep wrangler  \n",
      "4598                ford escape  \n",
      "13954             toyota tacoma  \n",
      "2777        chevrolet silverado  \n"
     ]
    },
    {
     "data": {
      "text/plain": [
       "<Figure size 1200x800 with 1 Axes>"
      ],
      "image/png": "[encoded data removed]"
     },
     "metadata": {},
     "output_type": "display_data"
    }
   ],
   "execution_count": 125
  },
  {
   "cell_type": "markdown",
   "metadata": {},
   "source": [
    "### Deployment\n",
    "\n",
    "Now that we've settled on our models and findings, it is time to deliver the information to the client.  You should organize your work as a basic report that details your primary findings.  Keep in mind that your audience is a group of used car dealers interested in fine tuning their inventory."
   ]
  },
  {
   "metadata": {},
   "cell_type": "markdown",
   "source": [
    "# Used Car Price Analysis: Insights for Optimizing Inventory and Pricing\n",
    "\n",
    "---\n",
    "\n",
    "## Introduction\n",
    "Welcome to our presentation on the key factors influencing used car prices. Our goal is to provide actionable insights to help you, as used car dealers, optimize your inventory and pricing strategies. We'll cover feature importance, geographic influence, and market demand.\n",
    "\n",
    "---\n",
    "\n",
    "## Feature Importance\n",
    "\n",
    "Using a Bagging Regressor model, we identified the top 20 features that significantly impact used car prices.\n",
    "\n",
    "![Top 20 Feature Importance](images/features_driving_price.png)\n",
    "\n",
    "\n",
    "**Key Features:**\n",
    "- **Odometer Reading**: Higher mileage generally lowers the car's price.\n",
    "- **Year**: Newer models tend to have higher prices.\n",
    "- **Number of Cylinders**: Engine size and performance affect the car's value.\n",
    "- **Transmission Type**: Automatic or manual transmissions influence car prices differently.\n",
    "- **Drive Type**: Cars with different drive types (FWD, AWD, etc.) have varying market values.\n",
    "- **Fuel Type**: Diesel vehicles often have different market values compared to gasoline vehicles.\n",
    "- **Condition**: The car's condition (e.g., good, excellent) significantly impacts its price.\n",
    "- **Car Type**: Different types of vehicles (sedans, pickups, SUVs) have different price ranges.\n",
    "\n",
    "\n",
    "\n",
    "**Business Implications:**\n",
    "- **Pricing Strategy**: Use these key features to set competitive and profitable prices.\n",
    "- **Inventory Management**: Focus on acquiring vehicles with desirable features (e.g., low mileage, newer models).\n",
    "\n",
    "---\n",
    "\n",
    "## Geographic Influence\n",
    "\n",
    "Geographic factors play a crucial role in determining used car prices. We analyzed the impact of geographic location on predicted car prices.\n",
    "\n",
    "**Predicted Prices by State:**\n",
    "- **Higher Median Prices**: States like California (CA), Florida (FL), and New York (NY) indicate higher market values.\n",
    "- **Lower Median Prices**: States like North Carolina (NC), Tennessee (TN), and Pennsylvania (PA) suggest more affordable car markets.\n",
    "- **Price Variation**: States with longer IQRs, like Texas (TX) and Ohio (OH), indicate a wider range of car prices.\n",
    "\n",
    "![Predicted Prices by State](images/prices_states.png)\n",
    "\n",
    "**Predicted Prices by Region:**\n",
    "- **Higher Median Prices**: Regions like New York City, Las Vegas, and Houston reflect higher market values.\n",
    "- **Lower Median Prices**: Regions such as Stockton and Cleveland indicate more affordable car markets.\n",
    "- **Price Spread**: Regions with larger spreads, such as Philadelphia and Boston, indicate diverse pricing within those markets.\n",
    "\n",
    "![Predicted Prices by Region](images/prices_regions.png)\n",
    "\n",
    "**Business Implications:**\n",
    "- **Regional Pricing Strategy**: Adjust prices based on regional market values.\n",
    "- **Inventory Allocation**: Allocate inventory strategically to regions with higher market values.\n",
    "\n",
    "---\n",
    "\n",
    "## Market Demand Analysis\n",
    "\n",
    "We analyzed market demand by evaluating the average price and count of different makes and models.\n",
    "\n",
    "**Top 20 Most Demanded Makes and Models:**\n",
    "- **Ford F-150**\n",
    "- **Chevrolet Silverado 1500**\n",
    "- **Ram 1500**\n",
    "- **Toyota Camry**\n",
    "- **Honda Accord**\n",
    "\n",
    "These models have the highest counts, indicating strong demand in the market.\n",
    "\n",
    "![Top 20 Most Demanded Makes and Models](images/make_model_demand.png)\n",
    "\n",
    "**Business Implications:**\n",
    "- **Inventory Focus**: Prioritize stocking high-demand makes and models to ensure fast turnover and profitability.\n",
    "- **Sales Strategy**: Develop targeted promotions for popular models.\n",
    "\n",
    "---\n",
    "\n",
    "## Key Takeaways\n",
    "\n",
    "1. **Pricing Strategy**:\n",
    "   - Higher median prices in states like CA, FL, and NY suggest that dealerships in these areas can price cars more aggressively.\n",
    "   - More affordable markets like NC, TN, and PA require competitive pricing to attract buyers.\n",
    "\n",
    "2. **Inventory Management**:\n",
    "   - High variability and outliers in regions like NY and CA suggest a demand for luxury or high-demand vehicles. Stock a diverse range of vehicles, including high-end models, in these areas.\n",
    "   - Affordable markets benefit from a mix of budget-friendly and mid-range vehicles.\n",
    "\n",
    "3. **Market Positioning**:\n",
    "   - Regional specialization allows dealerships to tailor their marketing and sales strategies. For example, promoting luxury vehicles in high-value markets and budget-friendly options in more affordable regions.\n",
    "\n",
    "4. **Sales Strategy**:\n",
    "   - Customized promotions and discounts can be tailored based on regional pricing insights. Offering financing options in high-value markets can attract customers interested in higher-end models.\n",
    "   - Analyzing seasonal trends in different regions helps in dynamic pricing strategies to maximize sales during peak times.\n",
    "\n",
    "---\n",
    "\n",
    "## Conclusion\n",
    "\n",
    "By leveraging these insights, you can optimize your inventory, set competitive prices, and tailor your sales strategies to different markets. This will enhance profitability and customer satisfaction, helping you stay ahead in the competitive used car market.\n",
    "\n",
    "Thank you for your attention. We are open to any questions you might have.\n"
   ]
  }
 ],
 "metadata": {
  "kernelspec": {
   "display_name": "Python 3 (ipykernel)",
   "language": "python",
   "name": "python3"
  },
  "language_info": {
   "codemirror_mode": {
    "name": "ipython",
    "version": 3
   },
   "file_extension": ".py",
   "mimetype": "text/x-python",
   "name": "python",
   "nbconvert_exporter": "python",
   "pygments_lexer": "ipython3",
   "version": "3.11.7"
  },
  "widgets": {
   "application/vnd.jupyter.widget-state+json": {
    "state": {},
    "version_major": 2,
    "version_minor": 0
   }
  }
 },
 "nbformat": 4,
 "nbformat_minor": 4
}
