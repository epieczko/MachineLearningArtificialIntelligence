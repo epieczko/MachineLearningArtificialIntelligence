{
 "cells": [
  {
   "cell_type": "code",
   "execution_count": null,
   "id": "initial_id",
   "metadata": {
    "collapsed": true
   },
   "outputs": [],
   "source": [
    ""
   ]
  },
  {
   "metadata": {
    "ExecuteTime": {
     "end_time": "2024-09-17T15:13:03.116356Z",
     "start_time": "2024-09-17T15:13:01.907837Z"
    }
   },
   "cell_type": "code",
   "source": [
    "import pandas as pd\n",
    "import numpy as np\n",
    "import re\n",
    "import ast"
   ],
   "id": "6905beda7cd58497",
   "outputs": [],
   "execution_count": 2
  },
  {
   "metadata": {
    "ExecuteTime": {
     "end_time": "2024-09-17T15:13:04.043435Z",
     "start_time": "2024-09-17T15:13:04.004868Z"
    }
   },
   "cell_type": "code",
   "source": [
    "spy_stock_data = pd.read_csv('../data/processed/SPY.csv')\n",
    "spy_news_data = pd.read_csv('../data/processed/SPY.US_news.csv')\n",
    "\n",
    "print(\"SPY Stock Data:\")\n",
    "print(spy_stock_data.head())\n",
    "\n",
    "print(\"\\nSPY News Data:\")\n",
    "print(spy_news_data.head())"
   ],
   "id": "d3cc58316e1143f3",
   "outputs": [
    {
     "name": "stdout",
     "output_type": "stream",
     "text": [
      "SPY Stock Data:\n",
      "         Date        Open        High         Low       Close  Adj_Close  \\\n",
      "0  2010-01-06  113.519997  113.989998  113.430000  113.709999  86.871063   \n",
      "1  2010-01-07  113.500000  114.330002  113.180000  114.190002  87.237770   \n",
      "2  2010-01-08  113.889999  114.620003  113.660004  114.570000  87.528069   \n",
      "3  2010-01-11  115.080002  115.129997  114.239998  114.730003  87.650307   \n",
      "4  2010-01-12  113.970001  114.209999  113.220001  113.660004  86.832848   \n",
      "\n",
      "      Volume  Log_Return_Close_Close  Log_Return_Open_Close  \\\n",
      "0  116074400                0.000704               0.001672   \n",
      "1  131091100                0.004212               0.006061   \n",
      "2  126402800                0.003322               0.005953   \n",
      "3  106375700                0.001396              -0.003046   \n",
      "4  163333500               -0.009370              -0.002724   \n",
      "\n",
      "   Log_Return_High_Low  Log_Return_Open_Open  Log_Return_Close_Open  \\\n",
      "0             0.004925              0.002293              -0.000969   \n",
      "1             0.010110             -0.000176              -0.001849   \n",
      "2             0.008411              0.003430              -0.002631   \n",
      "3             0.007760              0.010394               0.004442   \n",
      "4             0.008706             -0.009692              -0.006646   \n",
      "\n",
      "   Differenced_Adj_Close  \n",
      "0               0.061104  \n",
      "1               0.366707  \n",
      "2               0.290298  \n",
      "3               0.122238  \n",
      "4              -0.817459  \n",
      "\n",
      "SPY News Data:\n",
      "   Unnamed: 0                       date  \\\n",
      "0           0  2024-09-10T17:39:38+00:00   \n",
      "1           1  2024-09-06T18:28:40+00:00   \n",
      "2           2  2024-09-06T17:46:16+00:00   \n",
      "3           3  2024-09-06T15:52:33+00:00   \n",
      "4           4  2024-09-05T17:35:06+00:00   \n",
      "\n",
      "                                               title  \\\n",
      "0  Wall Street Falls Ahead Of Trump-Harris Debate...   \n",
      "1  Semiconductor ETFs Take A Beating, Dragged Low...   \n",
      "2  Stocks Tumble On Jobs Data, Nasdaq 100 Eyes Wo...   \n",
      "3  Treasury Yields Plunge, TLT ETF Tops $100, VIX...   \n",
      "4  S&amp;P 500 Falls Below 5,500 Points On Coolin...   \n",
      "\n",
      "                                             content  \\\n",
      "0  Wall Street Falls Ahead Of Trump-Harris Debate...   \n",
      "1  Semiconductor ETFs Take A Beating, Dragged Low...   \n",
      "2  Stocks Tumble On Jobs Data, Nasdaq 100 Eyes Wo...   \n",
      "3  Treasury Yields Plunge, TLT ETF Tops $100, VIX...   \n",
      "4  S&P 500 Falls Below 5,500 Points On Cooling Jo...   \n",
      "\n",
      "                                                link  \\\n",
      "0  https://finance.yahoo.com/news/wall-street-fal...   \n",
      "1  https://finance.yahoo.com/news/semiconductor-e...   \n",
      "2  https://finance.yahoo.com/news/stocks-tumble-j...   \n",
      "3  https://finance.yahoo.com/news/treasury-yields...   \n",
      "4  https://finance.yahoo.com/news/p-500-falls-bel...   \n",
      "\n",
      "                                             symbols tags  \\\n",
      "0  ['APA.US', 'ASO.US', 'DIA.US', 'FANG.US', 'GME...   []   \n",
      "1  ['0YXG.LSE', '1NVDA.MI', '1YD.BE', '1YD.DU', '...   []   \n",
      "2  ['0YXG.LSE', '1YD.BE', '1YD.DU', '1YD.F', '1YD...   []   \n",
      "3  ['FXY.US', 'NVDA.US', 'QQQ.US', 'SPY.US', 'TLT...   []   \n",
      "4  ['1TSLA.MI', 'AI.US', 'AVGO.US', 'CNM.US', 'CP...   []   \n",
      "\n",
      "                                           sentiment  \n",
      "0  {'polarity': 0.96, 'neg': 0.052, 'neu': 0.861,...  \n",
      "1  {'polarity': -0.84, 'neg': 0.088, 'neu': 0.847...  \n",
      "2  {'polarity': -0.773, 'neg': 0.106, 'neu': 0.80...  \n",
      "3  {'polarity': 0.972, 'neg': 0.107, 'neu': 0.75,...  \n",
      "4  {'polarity': 0.992, 'neg': 0.084, 'neu': 0.784...  \n"
     ]
    }
   ],
   "execution_count": 3
  },
  {
   "metadata": {
    "ExecuteTime": {
     "end_time": "2024-09-17T15:13:08.698293Z",
     "start_time": "2024-09-17T15:13:08.678778Z"
    }
   },
   "cell_type": "code",
   "source": [
    "# Preprocess and Clean the News Data\n",
    "# ------------------------------------------\n",
    "# The sentiment column is stored as JSON-like strings, we need to extract them.\n",
    "# We'll parse the 'sentiment' column and clean it.\n",
    "\n",
    "# Function to parse sentiment column (stored as JSON-like strings)\n",
    "def parse_sentiment(sentiment_str):\n",
    "    try:\n",
    "        return ast.literal_eval(sentiment_str)  # Convert string to dictionary\n",
    "    except (ValueError, SyntaxError):\n",
    "        return None\n",
    "\n",
    "\n",
    "# Apply the parsing function to the sentiment column\n",
    "spy_news_data['parsed_sentiment'] = spy_news_data['sentiment'].apply(parse_sentiment)\n",
    "\n",
    "# Now, extract 'polarity', 'neg', 'neu', and 'pos' from the parsed sentiment\n",
    "spy_news_data['polarity'] = spy_news_data['parsed_sentiment'].apply(lambda x: x['polarity'] if x else None)\n",
    "spy_news_data['neg'] = spy_news_data['parsed_sentiment'].apply(lambda x: x['neg'] if x else None)\n",
    "spy_news_data['neu'] = spy_news_data['parsed_sentiment'].apply(lambda x: x['neu'] if x else None)\n",
    "spy_news_data['pos'] = spy_news_data['parsed_sentiment'].apply(lambda x: x['pos'] if x else None)\n",
    "\n",
    "# Drop the unnecessary 'parsed_sentiment' column\n",
    "spy_news_data = spy_news_data.drop(columns=['parsed_sentiment'])\n",
    "\n",
    "# Convert the 'date' column to just the date (without time)\n",
    "spy_news_data['date_only'] = pd.to_datetime(spy_news_data['date']).dt.date\n",
    "\n",
    "# Inspect the cleaned news data\n",
    "print(\"\\nCleaned SPY News Data:\")\n",
    "print(spy_news_data[['date_only', 'polarity', 'neg', 'neu', 'pos']].head())"
   ],
   "id": "8103b858c063851a",
   "outputs": [
    {
     "name": "stdout",
     "output_type": "stream",
     "text": [
      "\n",
      "Cleaned SPY News Data:\n",
      "    date_only  polarity    neg    neu    pos\n",
      "0  2024-09-10     0.960  0.052  0.861  0.087\n",
      "1  2024-09-06    -0.840  0.088  0.847  0.065\n",
      "2  2024-09-06    -0.773  0.106  0.801  0.094\n",
      "3  2024-09-06     0.972  0.107  0.750  0.143\n",
      "4  2024-09-05     0.992  0.084  0.784  0.132\n"
     ]
    }
   ],
   "execution_count": 4
  },
  {
   "metadata": {
    "ExecuteTime": {
     "end_time": "2024-09-17T15:13:22.287050Z",
     "start_time": "2024-09-17T15:13:22.279411Z"
    }
   },
   "cell_type": "code",
   "source": [
    "# Aggregate the News Sentiment Scores by Date\n",
    "# ---------------------------------------------------\n",
    "# Since there may be multiple articles for the same day, we'll aggregate the sentiment scores.\n",
    "\n",
    "aggregated_sentiment = spy_news_data.groupby('date_only').agg({\n",
    "    'polarity': 'mean',\n",
    "    'neg': 'mean',\n",
    "    'neu': 'mean',\n",
    "    'pos': 'mean'\n",
    "}).reset_index()\n",
    "\n",
    "# Inspect the aggregated sentiment data\n",
    "print(\"\\nAggregated Sentiment Data:\")\n",
    "print(aggregated_sentiment.head())"
   ],
   "id": "213b2bb7addc6f0d",
   "outputs": [
    {
     "name": "stdout",
     "output_type": "stream",
     "text": [
      "\n",
      "Aggregated Sentiment Data:\n",
      "    date_only  polarity       neg       neu     pos\n",
      "0  2022-04-04    0.0350  0.038600  0.901400  0.0602\n",
      "1  2022-04-05    0.3865  0.017167  0.919833  0.0630\n",
      "2  2022-04-06   -0.5880  0.065000  0.879000  0.0550\n",
      "3  2022-04-07    0.6818  0.046800  0.873200  0.0800\n",
      "4  2022-04-08    0.9546  0.043000  0.856000  0.1008\n"
     ]
    }
   ],
   "execution_count": 5
  },
  {
   "metadata": {
    "ExecuteTime": {
     "end_time": "2024-09-17T15:13:27.641899Z",
     "start_time": "2024-09-17T15:13:27.633501Z"
    }
   },
   "cell_type": "code",
   "source": [
    "# Step 5: Prepare the Stock Data for Merging\n",
    "# ------------------------------------------\n",
    "# Ensure the 'Date' column in the stock data is in the correct format (YYYY-MM-DD) for merging.\n",
    "spy_stock_data['Date'] = pd.to_datetime(spy_stock_data['Date']).dt.date\n",
    "\n",
    "# Inspect the stock data\n",
    "print(\"\\nSPY Stock Data Ready for Merging:\")\n",
    "print(spy_stock_data.head())"
   ],
   "id": "ed93f3a16af8782a",
   "outputs": [
    {
     "name": "stdout",
     "output_type": "stream",
     "text": [
      "\n",
      "SPY Stock Data Ready for Merging:\n",
      "         Date        Open        High         Low       Close  Adj_Close  \\\n",
      "0  2010-01-06  113.519997  113.989998  113.430000  113.709999  86.871063   \n",
      "1  2010-01-07  113.500000  114.330002  113.180000  114.190002  87.237770   \n",
      "2  2010-01-08  113.889999  114.620003  113.660004  114.570000  87.528069   \n",
      "3  2010-01-11  115.080002  115.129997  114.239998  114.730003  87.650307   \n",
      "4  2010-01-12  113.970001  114.209999  113.220001  113.660004  86.832848   \n",
      "\n",
      "      Volume  Log_Return_Close_Close  Log_Return_Open_Close  \\\n",
      "0  116074400                0.000704               0.001672   \n",
      "1  131091100                0.004212               0.006061   \n",
      "2  126402800                0.003322               0.005953   \n",
      "3  106375700                0.001396              -0.003046   \n",
      "4  163333500               -0.009370              -0.002724   \n",
      "\n",
      "   Log_Return_High_Low  Log_Return_Open_Open  Log_Return_Close_Open  \\\n",
      "0             0.004925              0.002293              -0.000969   \n",
      "1             0.010110             -0.000176              -0.001849   \n",
      "2             0.008411              0.003430              -0.002631   \n",
      "3             0.007760              0.010394               0.004442   \n",
      "4             0.008706             -0.009692              -0.006646   \n",
      "\n",
      "   Differenced_Adj_Close  \n",
      "0               0.061104  \n",
      "1               0.366707  \n",
      "2               0.290298  \n",
      "3               0.122238  \n",
      "4              -0.817459  \n"
     ]
    }
   ],
   "execution_count": 6
  },
  {
   "metadata": {
    "ExecuteTime": {
     "end_time": "2024-09-17T15:13:33.662100Z",
     "start_time": "2024-09-17T15:13:33.653265Z"
    }
   },
   "cell_type": "code",
   "source": [
    "# Merge Stock Data with Aggregated Sentiment Data\n",
    "# -------------------------------------------------------\n",
    "# Merge the stock data with the aggregated sentiment data on the 'Date' column.\n",
    "combined_data = pd.merge(spy_stock_data, aggregated_sentiment, left_on='Date', right_on='date_only', how='left')\n",
    "\n",
    "# Drop the redundant 'date_only' column\n",
    "combined_data = combined_data.drop(columns=['date_only'])\n",
    "\n",
    "# Inspect the combined data\n",
    "print(\"\\nCombined Stock and Sentiment Data:\")\n",
    "print(combined_data.head())\n"
   ],
   "id": "bf063f1231c00a6b",
   "outputs": [
    {
     "name": "stdout",
     "output_type": "stream",
     "text": [
      "\n",
      "Combined Stock and Sentiment Data:\n",
      "         Date        Open        High         Low       Close  Adj_Close  \\\n",
      "0  2010-01-06  113.519997  113.989998  113.430000  113.709999  86.871063   \n",
      "1  2010-01-07  113.500000  114.330002  113.180000  114.190002  87.237770   \n",
      "2  2010-01-08  113.889999  114.620003  113.660004  114.570000  87.528069   \n",
      "3  2010-01-11  115.080002  115.129997  114.239998  114.730003  87.650307   \n",
      "4  2010-01-12  113.970001  114.209999  113.220001  113.660004  86.832848   \n",
      "\n",
      "      Volume  Log_Return_Close_Close  Log_Return_Open_Close  \\\n",
      "0  116074400                0.000704               0.001672   \n",
      "1  131091100                0.004212               0.006061   \n",
      "2  126402800                0.003322               0.005953   \n",
      "3  106375700                0.001396              -0.003046   \n",
      "4  163333500               -0.009370              -0.002724   \n",
      "\n",
      "   Log_Return_High_Low  Log_Return_Open_Open  Log_Return_Close_Open  \\\n",
      "0             0.004925              0.002293              -0.000969   \n",
      "1             0.010110             -0.000176              -0.001849   \n",
      "2             0.008411              0.003430              -0.002631   \n",
      "3             0.007760              0.010394               0.004442   \n",
      "4             0.008706             -0.009692              -0.006646   \n",
      "\n",
      "   Differenced_Adj_Close  polarity  neg  neu  pos  \n",
      "0               0.061104       NaN  NaN  NaN  NaN  \n",
      "1               0.366707       NaN  NaN  NaN  NaN  \n",
      "2               0.290298       NaN  NaN  NaN  NaN  \n",
      "3               0.122238       NaN  NaN  NaN  NaN  \n",
      "4              -0.817459       NaN  NaN  NaN  NaN  \n"
     ]
    }
   ],
   "execution_count": 7
  },
  {
   "metadata": {
    "ExecuteTime": {
     "end_time": "2024-09-17T15:13:42.675450Z",
     "start_time": "2024-09-17T15:13:42.668145Z"
    }
   },
   "cell_type": "code",
   "source": [
    "# Handle Missing Data by Carrying Over the Previous Day's Sentiment\n",
    "# ------------------------------------------------------------------------\n",
    "# Use forward-fill (ffill) to carry over the previous day's sentiment for missing values\n",
    "\n",
    "combined_data[['polarity', 'neg', 'neu', 'pos']] = combined_data[['polarity', 'neg', 'neu', 'pos']].ffill()\n",
    "\n",
    "# Inspect the data after applying forward-fill\n",
    "print(\"\\nCombined Data After Forward-Filling Missing Values:\")\n",
    "print(combined_data.head())"
   ],
   "id": "aa90091e915a25dd",
   "outputs": [
    {
     "name": "stdout",
     "output_type": "stream",
     "text": [
      "\n",
      "Combined Data After Forward-Filling Missing Values:\n",
      "         Date        Open        High         Low       Close  Adj_Close  \\\n",
      "0  2010-01-06  113.519997  113.989998  113.430000  113.709999  86.871063   \n",
      "1  2010-01-07  113.500000  114.330002  113.180000  114.190002  87.237770   \n",
      "2  2010-01-08  113.889999  114.620003  113.660004  114.570000  87.528069   \n",
      "3  2010-01-11  115.080002  115.129997  114.239998  114.730003  87.650307   \n",
      "4  2010-01-12  113.970001  114.209999  113.220001  113.660004  86.832848   \n",
      "\n",
      "      Volume  Log_Return_Close_Close  Log_Return_Open_Close  \\\n",
      "0  116074400                0.000704               0.001672   \n",
      "1  131091100                0.004212               0.006061   \n",
      "2  126402800                0.003322               0.005953   \n",
      "3  106375700                0.001396              -0.003046   \n",
      "4  163333500               -0.009370              -0.002724   \n",
      "\n",
      "   Log_Return_High_Low  Log_Return_Open_Open  Log_Return_Close_Open  \\\n",
      "0             0.004925              0.002293              -0.000969   \n",
      "1             0.010110             -0.000176              -0.001849   \n",
      "2             0.008411              0.003430              -0.002631   \n",
      "3             0.007760              0.010394               0.004442   \n",
      "4             0.008706             -0.009692              -0.006646   \n",
      "\n",
      "   Differenced_Adj_Close  polarity  neg  neu  pos  \n",
      "0               0.061104       NaN  NaN  NaN  NaN  \n",
      "1               0.366707       NaN  NaN  NaN  NaN  \n",
      "2               0.290298       NaN  NaN  NaN  NaN  \n",
      "3               0.122238       NaN  NaN  NaN  NaN  \n",
      "4              -0.817459       NaN  NaN  NaN  NaN  \n"
     ]
    }
   ],
   "execution_count": 8
  },
  {
   "metadata": {
    "ExecuteTime": {
     "end_time": "2024-09-17T15:13:50.115580Z",
     "start_time": "2024-09-17T15:13:50.073627Z"
    }
   },
   "cell_type": "code",
   "source": [
    "# Save the Combined Data\n",
    "# ------------------------------\n",
    "# Save the merged DataFrame to a new CSV file for further use.\n",
    "combined_data.to_csv('../data/processed/combined_spy_stock_sentiment.csv', index=False)\n",
    "\n",
    "print(\"\\nData saved to 'combined_spy_stock_sentiment.csv'!\")"
   ],
   "id": "807ace77ee24dbf5",
   "outputs": [
    {
     "name": "stdout",
     "output_type": "stream",
     "text": [
      "\n",
      "Data saved to 'combined_spy_stock_sentiment.csv'!\n"
     ]
    }
   ],
   "execution_count": 9
  },
  {
   "metadata": {},
   "cell_type": "code",
   "outputs": [],
   "execution_count": null,
   "source": "",
   "id": "b395dad5f1e169e5"
  }
 ],
 "metadata": {
  "kernelspec": {
   "display_name": "Python 3",
   "language": "python",
   "name": "python3"
  },
  "language_info": {
   "codemirror_mode": {
    "name": "ipython",
    "version": 2
   },
   "file_extension": ".py",
   "mimetype": "text/x-python",
   "name": "python",
   "nbconvert_exporter": "python",
   "pygments_lexer": "ipython2",
   "version": "2.7.6"
  }
 },
 "nbformat": 4,
 "nbformat_minor": 5
}
