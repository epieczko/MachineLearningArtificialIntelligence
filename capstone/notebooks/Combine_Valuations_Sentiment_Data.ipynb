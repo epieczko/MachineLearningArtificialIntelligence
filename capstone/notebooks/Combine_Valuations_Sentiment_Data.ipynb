{
 "cells": [
  {
   "metadata": {},
   "cell_type": "markdown",
   "source": [
    "# Combine Stock Price and Sentiment Data\n",
    "\n",
    "## Overview:\n",
    "This notebook merges stock price data with sentiment analysis data to create a combined dataset that includes both market valuations and sentiment indicators. The resulting dataset can be used for further analysis, such as evaluating how news sentiment correlates with stock price movements.\n",
    "\n",
    "## Purpose:\n",
    "The main objective of this notebook is to:\n",
    "- Load historical stock price data and sentiment data (news sentiment scores).\n",
    "- Preprocess and clean the sentiment data, extracting meaningful indicators like polarity and sentiment scores (negative, neutral, and positive).\n",
    "- Merge the two datasets based on date to create a unified view of stock performance alongside sentiment.\n",
    "- Handle any missing sentiment data by forward-filling it and save the combined dataset for further use.\n",
    "\n",
    "## Steps:\n",
    "1. **Data Loading**:\n",
    "- Load stock price data from a CSV file containing OHLC (Open, High, Low, Close) values.\n",
    "- Load news sentiment data for the same stock from a separate CSV file.\n",
    "\n",
    "2. **Sentiment Data Preprocessing**:\n",
    "- Parse the sentiment data, which is stored in a JSON-like string format, to extract values for polarity and sentiment scores (`neg`, `neu`, `pos`).\n",
    "- Clean the sentiment data by removing unnecessary columns and converting dates to a common format.\n",
    "\n",
    "3. **Aggregating Sentiment Data**:\n",
    "- Aggregate the sentiment scores on a daily basis, calculating the average polarity, negative, neutral, and positive sentiment for each day.\n",
    "\n",
    "4. **Merging Stock and Sentiment Data**:\n",
    "- Merge the stock price data and aggregated sentiment data based on the `Date` field.\n",
    "- Handle missing values in the sentiment columns by forward-filling them with the previous day’s values.\n",
    "\n",
    "5. **Saving the Combined Data**:\n",
    "- Save the merged dataset to a CSV file for future use, ensuring that it is structured in a way that can be used for further analysis, such as time series analysis, trading strategies, or sentiment-based forecasting.\n",
    "\n",
    "## Key Functions:\n",
    "- `parse_sentiment`: This function parses the JSON-like sentiment strings into dictionaries and extracts the relevant sentiment values.\n",
    "- `pd.merge`: This function merges the stock and sentiment data based on matching dates.\n",
    "- `ffill`: This method is used to forward-fill missing sentiment data from the previous day's values.\n",
    "\n",
    "## Output:\n",
    "- A CSV file named `combined_spy_stock_sentiment.csv`, which contains both stock price data and sentiment scores.\n",
    "\n",
    "## Use Cases:\n",
    "- **Sentiment-Based Trading**: Use the combined data to analyze how news sentiment affects stock prices and incorporate this into a trading strategy.\n",
    "- **Correlation Analysis**: Study the relationship between sentiment indicators and stock price movements.\n",
    "- **Predictive Modeling**: Use the combined dataset for machine learning models that predict stock prices based on sentiment data.\n",
    "\n",
    "## Conclusion:\n",
    "This notebook efficiently combines stock price data and sentiment data, providing a powerful dataset for analyzing how market sentiment influences stock performance. By saving the combined data, it sets up a foundation for further financial analysis or model building.\n"
   ],
   "id": "9f23949f8a60c3d9"
  },
  {
   "metadata": {},
   "cell_type": "markdown",
   "source": [
    "#### Importing necessary libraries\n",
    "This cell imports essential libraries for handling data and performing operations:\n",
    "- `pandas`: Used for handling data in DataFrame format, especially for CSV file operations.\n",
    "- `numpy`: Used for numerical computations."
   ],
   "id": "14c176ff57ecb284"
  },
  {
   "metadata": {},
   "cell_type": "code",
   "source": [
    "import pandas as pd\n",
    "import ast"
   ],
   "id": "6905beda7cd58497",
   "outputs": [],
   "execution_count": null
  },
  {
   "metadata": {},
   "cell_type": "markdown",
   "source": [
    "#### Loading stock price and sentiment data\n",
    "This cell reads the historical stock price data and sentiment data for SPY (S&P 500 ETF) from two CSV files:\n",
    "- `SPY.csv`: Contains the stock price data.\n",
    "- `SPY.US_news.csv`: Contains the news sentiment data.\n",
    "\n",
    "**Output:**\n",
    "- It displays the first few rows of each dataset for initial inspection."
   ],
   "id": "d94deac41dcc2a16"
  },
  {
   "metadata": {},
   "cell_type": "code",
   "source": [
    "spy_stock_data = pd.read_csv('../data/processed/SPY.csv')\n",
    "spy_news_data = pd.read_csv('../data/processed/SPY.US_news.csv')\n",
    "\n",
    "print(\"SPY Stock Data:\")\n",
    "print(spy_stock_data.head())\n",
    "\n",
    "print(\"\\nSPY News Data:\")\n",
    "print(spy_news_data.head())"
   ],
   "id": "d3cc58316e1143f3",
   "outputs": [],
   "execution_count": null
  },
  {
   "metadata": {},
   "cell_type": "markdown",
   "source": [
    "#### Preprocessing and cleaning sentiment data\n",
    "In this cell, the sentiment data (stored as JSON-like strings) is parsed and cleaned:\n",
    "- The `parse_sentiment` function extracts key sentiment attributes from the string, converting it into a dictionary.\n",
    "- Extracted sentiment scores include:\n",
    "  - `polarity`: The overall sentiment score.\n",
    "  - `neg`: Negative sentiment score.\n",
    "  - `neu`: Neutral sentiment score.\n",
    "  - `pos`: Positive sentiment score.\n",
    "\n",
    "The cell also converts dates to `datetime` format for easier merging with stock price data later.\n"
   ],
   "id": "d3c7fb842bff76ea"
  },
  {
   "metadata": {},
   "cell_type": "code",
   "source": [
    "# Preprocess and Clean the News Data\n",
    "# ------------------------------------------\n",
    "# The sentiment column is stored as JSON-like strings, we need to extract them.\n",
    "# We'll parse the 'sentiment' column and clean it.\n",
    "\n",
    "# Function to parse sentiment column (stored as JSON-like strings)\n",
    "def parse_sentiment(sentiment_str):\n",
    "    try:\n",
    "        return ast.literal_eval(sentiment_str)  # Convert string to dictionary\n",
    "    except (ValueError, SyntaxError):\n",
    "        return None\n",
    "\n",
    "\n",
    "# Apply the parsing function to the sentiment column\n",
    "spy_news_data['parsed_sentiment'] = spy_news_data['sentiment'].apply(parse_sentiment)\n",
    "\n",
    "# Now, extract 'polarity', 'neg', 'neu', and 'pos' from the parsed sentiment\n",
    "spy_news_data['polarity'] = spy_news_data['parsed_sentiment'].apply(lambda x: x['polarity'] if x else None)\n",
    "spy_news_data['neg'] = spy_news_data['parsed_sentiment'].apply(lambda x: x['neg'] if x else None)\n",
    "spy_news_data['neu'] = spy_news_data['parsed_sentiment'].apply(lambda x: x['neu'] if x else None)\n",
    "spy_news_data['pos'] = spy_news_data['parsed_sentiment'].apply(lambda x: x['pos'] if x else None)\n",
    "\n",
    "# Drop the unnecessary 'parsed_sentiment' column\n",
    "spy_news_data = spy_news_data.drop(columns=['parsed_sentiment'])\n",
    "\n",
    "# Convert the 'date' column to just the date (without time)\n",
    "spy_news_data['date_only'] = pd.to_datetime(spy_news_data['date']).dt.date\n",
    "\n",
    "# Inspect the cleaned news data\n",
    "print(\"\\nCleaned SPY News Data:\")\n",
    "print(spy_news_data[['date_only', 'polarity', 'neg', 'neu', 'pos']].head())"
   ],
   "id": "8103b858c063851a",
   "outputs": [],
   "execution_count": null
  },
  {
   "metadata": {},
   "cell_type": "code",
   "source": [
    "# Aggregate the News Sentiment Scores by Date\n",
    "# ---------------------------------------------------\n",
    "# Since there may be multiple articles for the same day, we'll aggregate the sentiment scores.\n",
    "\n",
    "aggregated_sentiment = spy_news_data.groupby('date_only').agg({\n",
    "    'polarity': 'mean',\n",
    "    'neg': 'mean',\n",
    "    'neu': 'mean',\n",
    "    'pos': 'mean'\n",
    "}).reset_index()\n",
    "\n",
    "# Inspect the aggregated sentiment data\n",
    "print(\"\\nAggregated Sentiment Data:\")\n",
    "print(aggregated_sentiment.head())"
   ],
   "id": "213b2bb7addc6f0d",
   "outputs": [],
   "execution_count": null
  },
  {
   "metadata": {},
   "cell_type": "code",
   "source": [
    "# Prepare the Stock Data for Merging\n",
    "# ------------------------------------------\n",
    "# Ensure the 'Date' column in the stock data is in the correct format (YYYY-MM-DD) for merging.\n",
    "spy_stock_data['Date'] = pd.to_datetime(spy_stock_data['Date']).dt.date\n",
    "\n",
    "# Inspect the stock data\n",
    "print(\"\\nSPY Stock Data Ready for Merging:\")\n",
    "print(spy_stock_data.head())"
   ],
   "id": "ed93f3a16af8782a",
   "outputs": [],
   "execution_count": null
  },
  {
   "metadata": {},
   "cell_type": "markdown",
   "source": [
    "#### Merging stock data with aggregated sentiment data\n",
    "In this cell, the stock price data and the sentiment data are merged based on the `Date` column. This allows us to align the stock price movements with the news sentiment on a given day. The merged dataset includes stock prices alongside the aggregated sentiment indicators (polarity, negative, neutral, and positive sentiment scores).\n",
    "\n",
    "**Output:**\n",
    "- The merged data is displayed for inspection."
   ],
   "id": "a6afe6ccf0dd38fd"
  },
  {
   "metadata": {},
   "cell_type": "code",
   "source": [
    "# Merge Stock Data with Aggregated Sentiment Data\n",
    "# -------------------------------------------------------\n",
    "# Merge the stock data with the aggregated sentiment data on the 'Date' column.\n",
    "combined_data = pd.merge(spy_stock_data, aggregated_sentiment, left_on='Date', right_on='date_only', how='left')\n",
    "\n",
    "# Drop the redundant 'date_only' column\n",
    "combined_data = combined_data.drop(columns=['date_only'])\n",
    "\n",
    "# Inspect the combined data\n",
    "print(\"\\nCombined Stock and Sentiment Data:\")\n",
    "print(combined_data.head())\n"
   ],
   "id": "bf063f1231c00a6b",
   "outputs": [],
   "execution_count": null
  },
  {
   "metadata": {},
   "cell_type": "markdown",
   "source": [
    "#### Handling missing sentiment data\n",
    "Since not every day will have associated sentiment data, this cell uses forward-filling (`ffill`) to carry over the previous day's sentiment to fill any missing values. This ensures that each day in the stock data has associated sentiment scores.\n",
    "\n",
    "**Output:**\n",
    "- The dataset after applying forward-filling is displayed for inspection.\n"
   ],
   "id": "6ce7900fcad01593"
  },
  {
   "metadata": {},
   "cell_type": "code",
   "source": [
    "# Handle Missing Data by Carrying Over the Previous Day's Sentiment\n",
    "# ------------------------------------------------------------------------\n",
    "# Use forward-fill (ffill) to carry over the previous day's sentiment for missing values\n",
    "\n",
    "combined_data[['polarity', 'neg', 'neu', 'pos']] = combined_data[['polarity', 'neg', 'neu', 'pos']].ffill()\n",
    "\n",
    "# Inspect the data after applying forward-fill\n",
    "print(\"\\nCombined Data After Forward-Filling Missing Values:\")\n",
    "print(combined_data.head())"
   ],
   "id": "aa90091e915a25dd",
   "outputs": [],
   "execution_count": null
  },
  {
   "metadata": {},
   "cell_type": "markdown",
   "source": [
    "#### Saving the combined data\n",
    "Once the stock and sentiment data have been merged and cleaned, the final combined dataset is saved to a CSV file. This file contains both the stock price data and the associated sentiment scores, allowing for further analysis.\n",
    "\n",
    "**Output:**\n",
    "- The merged data is saved to `combined_spy_stock_sentiment.csv`.\n"
   ],
   "id": "a81d02245c880a1d"
  },
  {
   "metadata": {},
   "cell_type": "code",
   "source": [
    "# Save the Combined Data\n",
    "# ------------------------------\n",
    "# Save the merged DataFrame to a new CSV file for further use.\n",
    "combined_data.to_csv('../data/processed/combined_spy_stock_sentiment.csv', index=False)\n",
    "\n",
    "print(\"\\nData saved to 'combined_spy_stock_sentiment.csv'!\")"
   ],
   "id": "807ace77ee24dbf5",
   "outputs": [],
   "execution_count": null
  },
  {
   "metadata": {},
   "cell_type": "code",
   "source": "",
   "id": "b395dad5f1e169e5",
   "outputs": [],
   "execution_count": null
  }
 ],
 "metadata": {
  "kernelspec": {
   "display_name": "Python 3",
   "language": "python",
   "name": "python3"
  },
  "language_info": {
   "codemirror_mode": {
    "name": "ipython",
    "version": 2
   },
   "file_extension": ".py",
   "mimetype": "text/x-python",
   "name": "python",
   "nbconvert_exporter": "python",
   "pygments_lexer": "ipython2",
   "version": "2.7.6"
  }
 },
 "nbformat": 4,
 "nbformat_minor": 5
}
