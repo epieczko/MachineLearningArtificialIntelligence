{
 "cells": [
  {
   "cell_type": "code",
   "id": "initial_id",
   "metadata": {
    "collapsed": true,
    "ExecuteTime": {
     "end_time": "2024-09-13T16:28:10.906304Z",
     "start_time": "2024-09-13T16:28:10.903055Z"
    }
   },
   "source": [
    "import pandas as pd\n",
    "import requests"
   ],
   "outputs": [],
   "execution_count": 41
  },
  {
   "metadata": {
    "ExecuteTime": {
     "end_time": "2024-09-13T16:28:12.025804Z",
     "start_time": "2024-09-13T16:28:12.022089Z"
    }
   },
   "cell_type": "code",
   "source": [
    "# Setup and Imports\n",
    "api_key = \" 66848eff49cbd1.37105331\"  # Replace with your EODHD API key\n",
    "base_url = \"https://eodhd.com/api/news\"\n",
    "limit = 100  # The number of articles per request (max 1000, default 50)\n",
    "max_articles = 500  # Define the maximum number of articles to fetch\n"
   ],
   "id": "b3b2436f03967226",
   "outputs": [],
   "execution_count": 42
  },
  {
   "metadata": {
    "ExecuteTime": {
     "end_time": "2024-09-13T16:28:12.891291Z",
     "start_time": "2024-09-13T16:28:12.886440Z"
    }
   },
   "cell_type": "code",
   "source": [
    "def fetch_news_data(ticker, start_date, end_date, limit, api_key, max_articles=500):\n",
    "    offset = 0\n",
    "    all_news_data = []\n",
    "\n",
    "    while True:\n",
    "        url = f\"{base_url}?s={ticker}&from={start_date}&to={end_date}&limit={limit}&offset={offset}&api_token={api_key}&fmt=json\"\n",
    "        response = requests.get(url)\n",
    "\n",
    "        if response.status_code == 200:\n",
    "            news_data = response.json()\n",
    "            if not news_data:\n",
    "                break  # Break the loop if no more data is returned\n",
    "\n",
    "            all_news_data.extend(news_data)\n",
    "\n",
    "            # Increment the offset for the next batch of data\n",
    "            offset += limit\n",
    "\n",
    "            # Check if we've reached the max number of articles to fetch\n",
    "            if len(all_news_data) >= max_articles:\n",
    "                break  # Stop fetching more if we reach the maximum limit\n",
    "        else:\n",
    "            print(f\"Failed to fetch data: {response.status_code}\")\n",
    "            break\n",
    "\n",
    "    return all_news_data"
   ],
   "id": "dcc322b30559e2f3",
   "outputs": [],
   "execution_count": 43
  },
  {
   "metadata": {
    "ExecuteTime": {
     "end_time": "2024-09-13T16:28:13.855597Z",
     "start_time": "2024-09-13T16:28:13.851547Z"
    }
   },
   "cell_type": "code",
   "source": [
    "def save_to_csv(data, ticker, folder='data'):\n",
    "    \"\"\"\n",
    "    Save the news data to a CSV file.\n",
    "    \n",
    "    Parameters:\n",
    "    data (pd.DataFrame): News Data\n",
    "    ticker (str): Stock ticker symbol.\n",
    "    folder (str): Folder path to save the CSV.\n",
    "    \n",
    "    Returns:\n",
    "    None\n",
    "    \"\"\"\n",
    "    filename = f\"../{folder}/processed/{ticker}_news.csv\"\n",
    "    data.to_csv(filename)\n",
    "    print(f\"Data saved to {filename}\")"
   ],
   "id": "c04f8d6606ecb8cc",
   "outputs": [],
   "execution_count": 44
  },
  {
   "metadata": {
    "ExecuteTime": {
     "end_time": "2024-09-13T16:28:17.230168Z",
     "start_time": "2024-09-13T16:28:17.226305Z"
    }
   },
   "cell_type": "code",
   "source": [
    "def run_workflow(ticker, start_date, end_date):\n",
    "    \n",
    "    news_data = fetch_news_data(ticker, start_date, end_date, limit=500, api_key=api_key, max_articles=500)\n",
    "    \n",
    "    if news_data:\n",
    "        save_to_csv(pd.DataFrame(news_data), ticker, folder='data')\n",
    "    \n",
    "    "
   ],
   "id": "5aa339293785f310",
   "outputs": [],
   "execution_count": 45
  },
  {
   "metadata": {
    "ExecuteTime": {
     "end_time": "2024-09-13T16:28:29.135682Z",
     "start_time": "2024-09-13T16:28:20.240482Z"
    }
   },
   "cell_type": "code",
   "source": [
    "# Define tickers (example for S&P 500 or other stocks)\n",
    "ticker = 'SPY.US'  # Use the normalized ticker for S&P 500 (example: SPX for S&P 500)\n",
    "start_date = '2010-01-01'\n",
    "end_date = '2024-09-10'\n",
    "\n",
    "run_workflow(ticker, start_date, end_date)"
   ],
   "id": "310d19aab90b16a5",
   "outputs": [
    {
     "name": "stdout",
     "output_type": "stream",
     "text": [
      "Data saved to ../data/processed/SPY.US_news.csv\n"
     ]
    }
   ],
   "execution_count": 46
  },
  {
   "metadata": {},
   "cell_type": "code",
   "outputs": [],
   "execution_count": null,
   "source": "",
   "id": "5e4c9b0522ac23c7"
  }
 ],
 "metadata": {
  "kernelspec": {
   "display_name": "Python 3",
   "language": "python",
   "name": "python3"
  },
  "language_info": {
   "codemirror_mode": {
    "name": "ipython",
    "version": 2
   },
   "file_extension": ".py",
   "mimetype": "text/x-python",
   "name": "python",
   "nbconvert_exporter": "python",
   "pygments_lexer": "ipython2",
   "version": "2.7.6"
  }
 },
 "nbformat": 4,
 "nbformat_minor": 5
}
