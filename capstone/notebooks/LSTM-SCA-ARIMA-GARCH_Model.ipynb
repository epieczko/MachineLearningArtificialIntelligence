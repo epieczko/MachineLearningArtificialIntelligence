{
 "cells": [
  {
   "metadata": {
    "ExecuteTime": {
     "end_time": "2024-09-11T00:59:49.939095Z",
     "start_time": "2024-09-11T00:59:49.932613Z"
    }
   },
   "cell_type": "code",
   "source": [
    "import numpy as np\n",
    "import pandas as pd\n",
    "import keras\n",
    "from statsmodels.tsa.arima.model import ARIMA\n",
    "from arch import arch_model\n",
    "from keras import models\n",
    "from sklearn.preprocessing import MinMaxScaler\n",
    "import matplotlib.pyplot as plt\n",
    "import statsmodels.tsa.seasonal as smt\n",
    "from tqdm import tqdm\n"
   ],
   "id": "1e8f91df38a1cf0f",
   "outputs": [],
   "execution_count": 132
  },
  {
   "metadata": {
    "ExecuteTime": {
     "end_time": "2024-09-11T00:59:50.038662Z",
     "start_time": "2024-09-11T00:59:50.030383Z"
    }
   },
   "cell_type": "code",
   "source": [
    "class DataPreprocessing:\n",
    "    def __init__(self, data, decomposition_model=\"additive\", rolling_window=12):\n",
    "        self.data = data\n",
    "        self.decomposition_model = decomposition_model\n",
    "        self.rolling_window = rolling_window\n",
    "\n",
    "    def decompose_data(self):\n",
    "        decomposition = smt.seasonal_decompose(self.data, model=self.decomposition_model, period=self.rolling_window)\n",
    "        trend = decomposition.trend.dropna()\n",
    "        seasonal = decomposition.seasonal.dropna()\n",
    "        residual = decomposition.resid.dropna()\n",
    "        return trend, seasonal, residual\n",
    "\n",
    "    def deseasonalize(self):\n",
    "        trend, seasonal, residual = self.decompose_data()\n",
    "        if self.decomposition_model == \"additive\":\n",
    "            deseasonalized_data = self.data - seasonal\n",
    "        elif self.decomposition_model == \"multiplicative\":\n",
    "            deseasonalized_data = self.data / seasonal\n",
    "        return deseasonalized_data.dropna()\n"
   ],
   "id": "2c0c23f9454be86c",
   "outputs": [],
   "execution_count": 133
  },
  {
   "metadata": {
    "ExecuteTime": {
     "end_time": "2024-09-11T01:04:13.913085Z",
     "start_time": "2024-09-11T01:04:13.906010Z"
    }
   },
   "cell_type": "code",
   "source": [
    "# ARIMA-GARCH Forecasting\n",
    "def arima_garch_forecast(train_data, test_data, p, q):\n",
    "    \"\"\"\n",
    "    Forecast using ARIMA-GARCH model.\n",
    "    \n",
    "    Parameters:\n",
    "    - train_data (pd.Series): Training data for the ARIMA-GARCH model.\n",
    "    - test_data (pd.Series): Testing data for forecasting.\n",
    "    - p (int): ARIMA p parameter (autoregressive term).\n",
    "    - q (int): GARCH q parameter (lagged residual error term).\n",
    "    \n",
    "    Returns:\n",
    "    - forecast (pd.Series): Combined forecast of ARIMA and GARCH models.\n",
    "    \"\"\"\n",
    "    # Fit ARIMA model\n",
    "    arima_model = ARIMA(train_data, order=(p, 0, q))\n",
    "    arima_fitted = arima_model.fit()\n",
    "\n",
    "    # Fit GARCH model on ARIMA residuals\n",
    "    residuals = arima_fitted.resid\n",
    "    garch_model = arch_model(residuals, vol=\"GARCH\", p=p, q=q)\n",
    "    garch_fitted = garch_model.fit(disp=\"off\")\n",
    "\n",
    "    # Forecast for ARIMA and GARCH\n",
    "    arima_forecast = arima_fitted.forecast(steps=len(test_data))\n",
    "\n",
    "    # Forecast GARCH and get the mean forecast for the future time steps\n",
    "    garch_forecast_result = garch_fitted.forecast(horizon=len(test_data))\n",
    "\n",
    "    # Print the available columns in the GARCH forecast result for debugging\n",
    "    print(\"Available columns in GARCH forecast result:\", garch_forecast_result.mean.columns)\n",
    "\n",
    "    # Access the first column dynamically if column names differ\n",
    "    garch_forecast = garch_forecast_result.mean.iloc[:, 0]  # First column as forecast\n",
    "\n",
    "    # Combine the ARIMA and GARCH forecasts\n",
    "    forecast = arima_forecast + garch_forecast\n",
    "\n",
    "    return forecast\n",
    "\n"
   ],
   "id": "2ecd8ad5ad3c1360",
   "outputs": [],
   "execution_count": 143
  },
  {
   "metadata": {
    "ExecuteTime": {
     "end_time": "2024-09-11T00:59:50.207943Z",
     "start_time": "2024-09-11T00:59:50.194627Z"
    }
   },
   "cell_type": "code",
   "source": [
    "def lstm_forecast(train_data, test_data, hidden_units, max_epochs):\n",
    "    scaler = MinMaxScaler(feature_range=(-1, 1))\n",
    "    train_scaled = scaler.fit_transform(train_data.values.reshape(-1, 1))\n",
    "\n",
    "    X_train, y_train = [], []\n",
    "    for i in range(5, len(train_scaled)):\n",
    "        X_train.append(train_scaled[i-5:i, 0])\n",
    "        y_train.append(train_scaled[i, 0])\n",
    "\n",
    "    X_train, y_train = np.array(X_train), np.array(y_train)\n",
    "    X_train = np.reshape(X_train, (X_train.shape[0], X_train.shape[1], 1))\n",
    "\n",
    "    model = keras.models.Sequential()\n",
    "    model.add(keras.layers.LSTM(units=hidden_units, input_shape=(X_train.shape[1], 1)))\n",
    "    model.add(keras.layers.Dense(1))\n",
    "    model.compile(loss='mean_squared_error', optimizer='adam')\n",
    "    model.fit(X_train, y_train, epochs=max_epochs, batch_size=1, verbose=2)\n",
    "\n",
    "    total_data = pd.concat((train_data, test_data), axis=0)\n",
    "    inputs = total_data[len(total_data) - len(test_data) - 5:].values.reshape(-1, 1)\n",
    "    inputs_scaled = scaler.transform(inputs)\n",
    "\n",
    "    X_test = []\n",
    "    for i in range(5, len(inputs_scaled)):\n",
    "        X_test.append(inputs_scaled[i-5:i, 0])\n",
    "    X_test = np.array(X_test)\n",
    "    X_test = np.reshape(X_test, (X_test.shape[0], X_test.shape[1], 1))\n",
    "\n",
    "    lstm_predictions = model.predict(X_test)\n",
    "    lstm_predictions = scaler.inverse_transform(lstm_predictions)\n",
    "\n",
    "    return lstm_predictions.flatten()"
   ],
   "id": "b873d0692847bda7",
   "outputs": [],
   "execution_count": 135
  },
  {
   "metadata": {
    "ExecuteTime": {
     "end_time": "2024-09-11T00:59:50.236805Z",
     "start_time": "2024-09-11T00:59:50.223798Z"
    }
   },
   "cell_type": "code",
   "source": [
    "\n",
    "class SCAOptimizer:\n",
    "    def __init__(self, pop_size, max_iters, dim, lb, ub):\n",
    "        self.pop_size = pop_size\n",
    "        self.max_iters = max_iters\n",
    "        self.dim = dim\n",
    "        self.lb = lb\n",
    "        self.ub = ub\n",
    "        self.population = np.random.uniform(lb, ub, (pop_size, dim))\n",
    "\n",
    "    def optimize(self, fitness_func):\n",
    "        best_pos = None\n",
    "        best_fit = float('inf')\n",
    "\n",
    "        for t in tqdm(range(self.max_iters), desc=\"SCA Optimizer Progress\"):\n",
    "            for i in range(self.pop_size):\n",
    "                fitness = fitness_func(self.population[i])\n",
    "                if fitness < best_fit:\n",
    "                    best_fit = fitness\n",
    "                    best_pos = self.population[i]\n",
    "\n",
    "            # SCA algorithm to update positions\n",
    "            a = 2 * (1 - t / self.max_iters)\n",
    "            for i in range(self.pop_size):\n",
    "                for j in range(self.dim):\n",
    "                    r1 = a - t * (a / self.max_iters)\n",
    "                    r2 = 2 * np.pi * np.random.rand()\n",
    "                    r3 = np.random.rand()\n",
    "                    r4 = np.random.rand()\n",
    "\n",
    "                    if r4 < 0.5:\n",
    "                        self.population[i, j] = self.population[i, j] + (r1 * np.sin(r2) * abs(r3 * best_pos[j] - self.population[i, j]))\n",
    "                    else:\n",
    "                        self.population[i, j] = self.population[i, j] + (r1 * np.cos(r2) * abs(r3 * best_pos[j] - self.population[i, j]))\n",
    "\n",
    "            # Make sure values stay within bounds\n",
    "            self.population = np.clip(self.population, self.lb, self.ub)\n",
    "\n",
    "        return best_pos, best_fit"
   ],
   "id": "c46ff39aee246d79",
   "outputs": [],
   "execution_count": 136
  },
  {
   "metadata": {
    "ExecuteTime": {
     "end_time": "2024-09-11T00:59:50.256971Z",
     "start_time": "2024-09-11T00:59:50.250462Z"
    }
   },
   "cell_type": "code",
   "source": [
    "def calculate_fitness(predictions, actual):\n",
    "    return np.sqrt(np.mean((predictions - actual) ** 2))"
   ],
   "id": "9bee8b8f5bb7b55",
   "outputs": [],
   "execution_count": 137
  },
  {
   "metadata": {
    "ExecuteTime": {
     "end_time": "2024-09-11T00:59:50.298473Z",
     "start_time": "2024-09-11T00:59:50.289397Z"
    }
   },
   "cell_type": "code",
   "source": [
    "def forecast_arima_garch_lstm(data, best_params):\n",
    "    long_term, seasonal, residual = DataPreprocessing(data).decompose_data()\n",
    "\n",
    "    # Split long-term and residual data for train/test\n",
    "    train_len = int(0.75 * len(long_term))\n",
    "    test_len = len(long_term) - train_len\n",
    "\n",
    "    # ARIMA-GARCH Forecast\n",
    "    arima_garch_predictions = arima_garch_forecast(long_term[:train_len],\n",
    "                                                   long_term[train_len:],\n",
    "                                                   p=int(best_params[0]), q=int(best_params[1]))\n",
    "\n",
    "    # LSTM Forecast\n",
    "    lstm_predictions = lstm_forecast(residual[:train_len],\n",
    "                                     residual[train_len:],\n",
    "                                     hidden_units=int(best_params[2]), max_epochs=int(best_params[3]))\n",
    "\n",
    "    # Align ARIMA-GARCH and LSTM lengths if different\n",
    "    min_len = min(len(arima_garch_predictions), len(lstm_predictions))\n",
    "    arima_garch_predictions = arima_garch_predictions[-min_len:]\n",
    "    lstm_predictions = lstm_predictions[-min_len:]\n",
    "\n",
    "    # Combine predictions\n",
    "    combined_forecast = arima_garch_predictions + lstm_predictions\n",
    "\n",
    "    return combined_forecast"
   ],
   "id": "25d280d2ebbd9326",
   "outputs": [],
   "execution_count": 138
  },
  {
   "metadata": {
    "ExecuteTime": {
     "end_time": "2024-09-11T00:59:50.327696Z",
     "start_time": "2024-09-11T00:59:50.320293Z"
    }
   },
   "cell_type": "code",
   "source": [
    "\n",
    "def save_results_to_csv(actual, forecast, filename='actual_vs_forecast.csv'):\n",
    "    \"\"\"\n",
    "    Save the actual and forecasted values to a CSV file.\n",
    "    \n",
    "    Parameters:\n",
    "    - actual (pd.Series): Actual values of the stock prices.\n",
    "    - forecast (pd.Series): Forecasted values from the model.\n",
    "    - filename (str): Output filename for the CSV.\n",
    "    \n",
    "    Returns:\n",
    "    - None\n",
    "    \"\"\"\n",
    "    results_df = pd.DataFrame({\n",
    "        'Actual': actual[-len(forecast):].values,  # Aligning the forecast with the actual values\n",
    "        'Forecast': forecast\n",
    "    })\n",
    "    results_df.to_csv(filename, index=False)\n",
    "    print(f\"Results saved to {filename}\")\n"
   ],
   "id": "d223ccf4eb159195",
   "outputs": [],
   "execution_count": 139
  },
  {
   "metadata": {
    "ExecuteTime": {
     "end_time": "2024-09-11T00:59:50.384816Z",
     "start_time": "2024-09-11T00:59:50.377424Z"
    }
   },
   "cell_type": "code",
   "source": [
    "def plot_results(actual, forecast):\n",
    "    \"\"\"\n",
    "    Plot the actual and forecasted values.\n",
    "    \n",
    "    Parameters:\n",
    "    - actual (pd.Series): Actual stock prices.\n",
    "    - forecast (pd.Series): Forecasted prices from the model.\n",
    "    \n",
    "    Returns:\n",
    "    - None\n",
    "    \"\"\"\n",
    "    plt.figure(figsize=(12, 6))\n",
    "    plt.plot(actual.index, actual, label=\"Actual Data\", color='steelblue', linewidth=2)\n",
    "    plt.plot(actual.index[-len(forecast):], forecast, label=\"Forecast\", linestyle=\"--\", color='orange', linewidth=2)\n",
    "    plt.title(\"ARIMA-GARCH-LSTM Predictions\")\n",
    "    plt.xlabel(\"Date\")\n",
    "    plt.ylabel(\"Price\")\n",
    "    plt.legend()\n",
    "    plt.show()\n"
   ],
   "id": "67121fdfa031744e",
   "outputs": [],
   "execution_count": 140
  },
  {
   "metadata": {
    "ExecuteTime": {
     "end_time": "2024-09-11T00:59:50.414643Z",
     "start_time": "2024-09-11T00:59:50.404934Z"
    }
   },
   "cell_type": "code",
   "source": [
    "def run_full_workflow(data, best_params=None, best_fitness=None):\n",
    "    \"\"\"\n",
    "    Run the full ARIMA-GARCH-LSTM workflow. Optionally, provide best parameters and fitness.\n",
    "    \n",
    "    Parameters:\n",
    "    - data (pd.DataFrame): The input stock price data.\n",
    "    - best_params (list): Predefined best parameters for the model (optional).\n",
    "    - best_fitness (float): Predefined best fitness value (optional).\n",
    "    \n",
    "    Returns:\n",
    "    - None\n",
    "    \"\"\"\n",
    "    # Decompose the data\n",
    "    preprocessing = DataPreprocessing(data)\n",
    "    long_term, seasonal, residual = preprocessing.decompose_data()\n",
    "\n",
    "    # Define bounds for SCA optimization\n",
    "    lb = [1, 1, 10, 10]  # p, q, hidden_units, max_epochs\n",
    "    ub = [5, 5, 100, 100]\n",
    "\n",
    "    # Check if best_params and best_fitness are provided\n",
    "    if best_params is None or best_fitness is None:\n",
    "        # If not provided, run SCA optimizer\n",
    "        print(\"No predefined parameters provided. Running SCA optimization...\")\n",
    "        sca_optimizer = SCAOptimizer(pop_size=1, max_iters=1, dim=4, lb=lb, ub=ub)\n",
    "\n",
    "        # Run SCA optimization\n",
    "        best_params, best_fitness = sca_optimizer.optimize(lambda params: calculate_fitness(forecast_arima_garch_lstm(data, params), data))\n",
    "\n",
    "    print(f\"Best Parameters: {best_params}, Best Fitness: {best_fitness}\")\n",
    "\n",
    "    # Forecast with the best parameters\n",
    "    actual = data# Assuming 'Close' is your actual stock price column\n",
    "    forecast = forecast_arima_garch_lstm(data, best_params)\n",
    "\n",
    "    save_results_to_csv(actual, forecast)\n",
    "    plot_results(actual, forecast)\n",
    "\n"
   ],
   "id": "668e71281b98b840",
   "outputs": [],
   "execution_count": 141
  },
  {
   "metadata": {
    "ExecuteTime": {
     "end_time": "2024-09-11T01:08:04.751510Z",
     "start_time": "2024-09-11T01:05:30.093581Z"
    }
   },
   "cell_type": "code",
   "source": [
    "data = pd.read_csv('../data/processed/AAPL.csv')\n",
    "best_params = [1.96426626, 2.83651651, 20.13242557, 47.35318882]\n",
    "best_fitness = 0.8977879867010543\n",
    "\n",
    "run_full_workflow(data['Close'], best_params, best_fitness)"
   ],
   "id": "5a2f077044736503",
   "outputs": [
    {
     "name": "stdout",
     "output_type": "stream",
     "text": [
      "Best Parameters: [1.96426626, 2.83651651, 20.13242557, 47.35318882], Best Fitness: 0.8977879867010543\n"
     ]
    },
    {
     "name": "stderr",
     "output_type": "stream",
     "text": [
      "C:\\CoDE\\workspace-idea\\everything\\venv\\Lib\\site-packages\\statsmodels\\tsa\\base\\tsa_model.py:473: ValueWarning: An unsupported index was provided and will be ignored when e.g. forecasting.\n",
      "  self._init_dates(dates, freq)\n",
      "C:\\CoDE\\workspace-idea\\everything\\venv\\Lib\\site-packages\\statsmodels\\tsa\\base\\tsa_model.py:473: ValueWarning: An unsupported index was provided and will be ignored when e.g. forecasting.\n",
      "  self._init_dates(dates, freq)\n",
      "C:\\CoDE\\workspace-idea\\everything\\venv\\Lib\\site-packages\\statsmodels\\tsa\\base\\tsa_model.py:473: ValueWarning: An unsupported index was provided and will be ignored when e.g. forecasting.\n",
      "  self._init_dates(dates, freq)\n",
      "C:\\CoDE\\workspace-idea\\everything\\venv\\Lib\\site-packages\\statsmodels\\tsa\\statespace\\sarimax.py:966: UserWarning: Non-stationary starting autoregressive parameters found. Using zeros as starting parameters.\n",
      "  warn('Non-stationary starting autoregressive parameters'\n",
      "C:\\CoDE\\workspace-idea\\everything\\venv\\Lib\\site-packages\\statsmodels\\tsa\\statespace\\sarimax.py:978: UserWarning: Non-invertible starting MA parameters found. Using zeros as starting parameters.\n",
      "  warn('Non-invertible starting MA parameters found.'\n"
     ]
    },
    {
     "name": "stdout",
     "output_type": "stream",
     "text": [
      "Available columns in GARCH forecast result: Index(['h.001', 'h.002', 'h.003', 'h.004', 'h.005', 'h.006', 'h.007', 'h.008',\n",
      "       'h.009', 'h.010',\n",
      "       ...\n",
      "       'h.806', 'h.807', 'h.808', 'h.809', 'h.810', 'h.811', 'h.812', 'h.813',\n",
      "       'h.814', 'h.815'],\n",
      "      dtype='object', length=815)\n",
      "Epoch 1/47\n"
     ]
    },
    {
     "name": "stderr",
     "output_type": "stream",
     "text": [
      "C:\\CoDE\\workspace-idea\\everything\\venv\\Lib\\site-packages\\statsmodels\\tsa\\base\\tsa_model.py:836: ValueWarning: No supported index is available. Prediction results will be given with an integer index beginning at `start`.\n",
      "  return get_prediction_index(\n",
      "C:\\CoDE\\workspace-idea\\everything\\venv\\Lib\\site-packages\\statsmodels\\tsa\\base\\tsa_model.py:836: FutureWarning: No supported index is available. In the next version, calling this method in a model without a supported index will result in an exception.\n",
      "  return get_prediction_index(\n",
      "C:\\CoDE\\workspace-idea\\everything\\venv\\Lib\\site-packages\\keras\\src\\layers\\rnn\\rnn.py:204: UserWarning: Do not pass an `input_shape`/`input_dim` argument to a layer. When using Sequential models, prefer using an `Input(shape)` object as the first layer in the model instead.\n",
      "  super().__init__(**kwargs)\n"
     ]
    },
    {
     "name": "stdout",
     "output_type": "stream",
     "text": [
      "2438/2438 - 4s - 2ms/step - loss: 0.0242\n",
      "Epoch 2/47\n",
      "2438/2438 - 3s - 1ms/step - loss: 0.0219\n",
      "Epoch 3/47\n",
      "2438/2438 - 3s - 1ms/step - loss: 0.0217\n",
      "Epoch 4/47\n",
      "2438/2438 - 3s - 1ms/step - loss: 0.0216\n",
      "Epoch 5/47\n",
      "2438/2438 - 3s - 1ms/step - loss: 0.0216\n",
      "Epoch 6/47\n",
      "2438/2438 - 4s - 1ms/step - loss: 0.0215\n",
      "Epoch 7/47\n",
      "2438/2438 - 3s - 1ms/step - loss: 0.0215\n",
      "Epoch 8/47\n",
      "2438/2438 - 3s - 1ms/step - loss: 0.0216\n",
      "Epoch 9/47\n",
      "2438/2438 - 3s - 1ms/step - loss: 0.0215\n",
      "Epoch 10/47\n",
      "2438/2438 - 3s - 1ms/step - loss: 0.0215\n",
      "Epoch 11/47\n",
      "2438/2438 - 3s - 1ms/step - loss: 0.0212\n",
      "Epoch 12/47\n",
      "2438/2438 - 3s - 1ms/step - loss: 0.0214\n",
      "Epoch 13/47\n",
      "2438/2438 - 3s - 1ms/step - loss: 0.0213\n",
      "Epoch 14/47\n",
      "2438/2438 - 3s - 1ms/step - loss: 0.0214\n",
      "Epoch 15/47\n",
      "2438/2438 - 3s - 1ms/step - loss: 0.0214\n",
      "Epoch 16/47\n",
      "2438/2438 - 3s - 1ms/step - loss: 0.0213\n",
      "Epoch 17/47\n",
      "2438/2438 - 3s - 1ms/step - loss: 0.0213\n",
      "Epoch 18/47\n",
      "2438/2438 - 3s - 1ms/step - loss: 0.0213\n",
      "Epoch 19/47\n",
      "2438/2438 - 3s - 1ms/step - loss: 0.0213\n",
      "Epoch 20/47\n",
      "2438/2438 - 3s - 1ms/step - loss: 0.0212\n",
      "Epoch 21/47\n",
      "2438/2438 - 3s - 1ms/step - loss: 0.0213\n",
      "Epoch 22/47\n",
      "2438/2438 - 3s - 1ms/step - loss: 0.0212\n",
      "Epoch 23/47\n",
      "2438/2438 - 4s - 1ms/step - loss: 0.0212\n",
      "Epoch 24/47\n",
      "2438/2438 - 3s - 1ms/step - loss: 0.0211\n",
      "Epoch 25/47\n",
      "2438/2438 - 3s - 1ms/step - loss: 0.0212\n",
      "Epoch 26/47\n",
      "2438/2438 - 3s - 1ms/step - loss: 0.0210\n",
      "Epoch 27/47\n",
      "2438/2438 - 4s - 2ms/step - loss: 0.0210\n",
      "Epoch 28/47\n",
      "2438/2438 - 3s - 1ms/step - loss: 0.0210\n",
      "Epoch 29/47\n",
      "2438/2438 - 3s - 1ms/step - loss: 0.0211\n",
      "Epoch 30/47\n",
      "2438/2438 - 3s - 1ms/step - loss: 0.0209\n",
      "Epoch 31/47\n",
      "2438/2438 - 3s - 1ms/step - loss: 0.0210\n",
      "Epoch 32/47\n",
      "2438/2438 - 3s - 1ms/step - loss: 0.0209\n",
      "Epoch 33/47\n",
      "2438/2438 - 4s - 1ms/step - loss: 0.0208\n",
      "Epoch 34/47\n",
      "2438/2438 - 3s - 1ms/step - loss: 0.0209\n",
      "Epoch 35/47\n",
      "2438/2438 - 3s - 1ms/step - loss: 0.0207\n",
      "Epoch 36/47\n",
      "2438/2438 - 3s - 1ms/step - loss: 0.0208\n",
      "Epoch 37/47\n",
      "2438/2438 - 3s - 1ms/step - loss: 0.0207\n",
      "Epoch 38/47\n",
      "2438/2438 - 3s - 1ms/step - loss: 0.0207\n",
      "Epoch 39/47\n",
      "2438/2438 - 3s - 1ms/step - loss: 0.0208\n",
      "Epoch 40/47\n",
      "2438/2438 - 3s - 1ms/step - loss: 0.0206\n",
      "Epoch 41/47\n",
      "2438/2438 - 3s - 1ms/step - loss: 0.0207\n",
      "Epoch 42/47\n",
      "2438/2438 - 3s - 1ms/step - loss: 0.0206\n",
      "Epoch 43/47\n",
      "2438/2438 - 3s - 1ms/step - loss: 0.0206\n",
      "Epoch 44/47\n",
      "2438/2438 - 3s - 1ms/step - loss: 0.0206\n",
      "Epoch 45/47\n",
      "2438/2438 - 3s - 1ms/step - loss: 0.0205\n",
      "Epoch 46/47\n",
      "2438/2438 - 3s - 1ms/step - loss: 0.0206\n",
      "Epoch 47/47\n",
      "2438/2438 - 4s - 1ms/step - loss: 0.0204\n",
      "\u001B[1m26/26\u001B[0m \u001B[32m━━━━━━━━━━━━━━━━━━━━\u001B[0m\u001B[37m\u001B[0m \u001B[1m0s\u001B[0m 8ms/step\n",
      "Results saved to actual_vs_forecast.csv\n"
     ]
    },
    {
     "data": {
      "text/plain": [
       "<Figure size 1200x600 with 1 Axes>"
      ],
      "image/png": "[encoded data removed]"
     },
     "metadata": {},
     "output_type": "display_data"
    }
   ],
   "execution_count": 144
  },
  {
   "metadata": {
    "ExecuteTime": {
     "end_time": "2024-09-11T01:02:24.559865Z",
     "start_time": "2024-09-11T01:02:24.555470Z"
    }
   },
   "cell_type": "code",
   "source": "",
   "id": "42b029b6567cc34a",
   "outputs": [],
   "execution_count": 142
  },
  {
   "metadata": {
    "ExecuteTime": {
     "end_time": "2024-09-11T01:02:24.564249Z",
     "start_time": "2024-09-11T01:02:24.560874Z"
    }
   },
   "cell_type": "code",
   "source": "",
   "id": "2b8083c24710e850",
   "outputs": [],
   "execution_count": 142
  }
 ],
 "metadata": {
  "kernelspec": {
   "display_name": "Python 3",
   "language": "python",
   "name": "python3"
  },
  "language_info": {
   "codemirror_mode": {
    "name": "ipython",
    "version": 2
   },
   "file_extension": ".py",
   "mimetype": "text/x-python",
   "name": "python",
   "nbconvert_exporter": "python",
   "pygments_lexer": "ipython2",
   "version": "2.7.6"
  }
 },
 "nbformat": 4,
 "nbformat_minor": 5
}
